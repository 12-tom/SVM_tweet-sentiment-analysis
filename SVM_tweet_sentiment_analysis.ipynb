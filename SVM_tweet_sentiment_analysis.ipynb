{
  "nbformat": 4,
  "nbformat_minor": 0,
  "metadata": {
    "colab": {
      "provenance": []
    },
    "kernelspec": {
      "name": "python3",
      "display_name": "Python 3"
    },
    "language_info": {
      "name": "python"
    }
  },
  "cells": [
    {
      "cell_type": "markdown",
      "source": [
        "## Importing Libraries"
      ],
      "metadata": {
        "id": "fzkzcc6Et0aL"
      }
    },
    {
      "cell_type": "code",
      "execution_count": 1,
      "metadata": {
        "id": "JnEaPvDQmw1z"
      },
      "outputs": [],
      "source": [
        "import pandas as pd\n",
        "import re\n",
        "import matplotlib.pyplot as plt\n",
        "from sklearn.model_selection import train_test_split\n",
        "from sklearn.feature_extraction.text import TfidfVectorizer\n",
        "from sklearn.svm import SVC\n",
        "from sklearn.metrics import accuracy_score\n",
        "from sklearn.metrics import ConfusionMatrixDisplay\n",
        "from sklearn.metrics import classification_report"
      ]
    },
    {
      "cell_type": "markdown",
      "source": [
        "## Reading data"
      ],
      "metadata": {
        "id": "ZaBNYOuRt7r8"
      }
    },
    {
      "cell_type": "code",
      "source": [
        "df = pd.read_csv(r\"/content/drive/MyDrive/COVIDSenti-A.csv\")\n",
        "print(df)"
      ],
      "metadata": {
        "colab": {
          "base_uri": "https://localhost:8080/"
        },
        "id": "NafYHpwaqAOs",
        "outputId": "8d64b920-8912-4e25-c9b0-dad6456cbb77"
      },
      "execution_count": 2,
      "outputs": [
        {
          "output_type": "stream",
          "name": "stdout",
          "text": [
            "                                                   tweet label\n",
            "0      Coronavirus | Human Coronavirus Types | CDC ht...   neu\n",
            "1      @shehryar_taseer That‚Äôs üíØ true , \\nCorona...   neu\n",
            "2      TLDR: Not SARS, possibly new coronavirus. Diff...   neg\n",
            "3      Disease outbreak news from the WHO: Middle Eas...   neu\n",
            "4      China - Media: WSJ says sources tell them myst...   neu\n",
            "...                                                  ...   ...\n",
            "29995  CDC: Re-test confirms Westerdam cruise ship pa...   neu\n",
            "29996  Two doctors die of coronavirus within 24 hours...   neu\n",
            "29997  BEIJING - The lockdown of Guo Jing's neighbour...   neu\n",
            "29998  #CoronavirusOutbreak in #Balochistan !!\\n#CPEC...   neu\n",
            "29999  The Australian dollar has hit a fresh decade l...   neu\n",
            "\n",
            "[30000 rows x 2 columns]\n"
          ]
        }
      ]
    },
    {
      "cell_type": "code",
      "source": [
        "df.info()"
      ],
      "metadata": {
        "colab": {
          "base_uri": "https://localhost:8080/"
        },
        "id": "J6A0h4p_rGVc",
        "outputId": "94cee5cb-4f6d-4324-eb26-2552806d9be2"
      },
      "execution_count": 3,
      "outputs": [
        {
          "output_type": "stream",
          "name": "stdout",
          "text": [
            "<class 'pandas.core.frame.DataFrame'>\n",
            "RangeIndex: 30000 entries, 0 to 29999\n",
            "Data columns (total 2 columns):\n",
            " #   Column  Non-Null Count  Dtype \n",
            "---  ------  --------------  ----- \n",
            " 0   tweet   30000 non-null  object\n",
            " 1   label   30000 non-null  object\n",
            "dtypes: object(2)\n",
            "memory usage: 468.9+ KB\n"
          ]
        }
      ]
    },
    {
      "cell_type": "code",
      "source": [
        "df.describe()"
      ],
      "metadata": {
        "colab": {
          "base_uri": "https://localhost:8080/",
          "height": 175
        },
        "id": "AmV6AArYrJPv",
        "outputId": "e5346cb0-1c8d-4ae6-8a69-fb170154b95b"
      },
      "execution_count": 4,
      "outputs": [
        {
          "output_type": "execute_result",
          "data": {
            "text/plain": [
              "                                                    tweet  label\n",
              "count                                               30000  30000\n",
              "unique                                              29987      3\n",
              "top     Copper price and coronavirus: ‚ÄúBlack swan li...    neu\n",
              "freq                                                    3  22949"
            ],
            "text/html": [
              "\n",
              "  <div id=\"df-67c69ec6-eb69-4d72-95bf-41ae55545281\">\n",
              "    <div class=\"colab-df-container\">\n",
              "      <div>\n",
              "<style scoped>\n",
              "    .dataframe tbody tr th:only-of-type {\n",
              "        vertical-align: middle;\n",
              "    }\n",
              "\n",
              "    .dataframe tbody tr th {\n",
              "        vertical-align: top;\n",
              "    }\n",
              "\n",
              "    .dataframe thead th {\n",
              "        text-align: right;\n",
              "    }\n",
              "</style>\n",
              "<table border=\"1\" class=\"dataframe\">\n",
              "  <thead>\n",
              "    <tr style=\"text-align: right;\">\n",
              "      <th></th>\n",
              "      <th>tweet</th>\n",
              "      <th>label</th>\n",
              "    </tr>\n",
              "  </thead>\n",
              "  <tbody>\n",
              "    <tr>\n",
              "      <th>count</th>\n",
              "      <td>30000</td>\n",
              "      <td>30000</td>\n",
              "    </tr>\n",
              "    <tr>\n",
              "      <th>unique</th>\n",
              "      <td>29987</td>\n",
              "      <td>3</td>\n",
              "    </tr>\n",
              "    <tr>\n",
              "      <th>top</th>\n",
              "      <td>Copper price and coronavirus: ‚ÄúBlack swan li...</td>\n",
              "      <td>neu</td>\n",
              "    </tr>\n",
              "    <tr>\n",
              "      <th>freq</th>\n",
              "      <td>3</td>\n",
              "      <td>22949</td>\n",
              "    </tr>\n",
              "  </tbody>\n",
              "</table>\n",
              "</div>\n",
              "      <button class=\"colab-df-convert\" onclick=\"convertToInteractive('df-67c69ec6-eb69-4d72-95bf-41ae55545281')\"\n",
              "              title=\"Convert this dataframe to an interactive table.\"\n",
              "              style=\"display:none;\">\n",
              "        \n",
              "  <svg xmlns=\"http://www.w3.org/2000/svg\" height=\"24px\"viewBox=\"0 0 24 24\"\n",
              "       width=\"24px\">\n",
              "    <path d=\"M0 0h24v24H0V0z\" fill=\"none\"/>\n",
              "    <path d=\"M18.56 5.44l.94 2.06.94-2.06 2.06-.94-2.06-.94-.94-2.06-.94 2.06-2.06.94zm-11 1L8.5 8.5l.94-2.06 2.06-.94-2.06-.94L8.5 2.5l-.94 2.06-2.06.94zm10 10l.94 2.06.94-2.06 2.06-.94-2.06-.94-.94-2.06-.94 2.06-2.06.94z\"/><path d=\"M17.41 7.96l-1.37-1.37c-.4-.4-.92-.59-1.43-.59-.52 0-1.04.2-1.43.59L10.3 9.45l-7.72 7.72c-.78.78-.78 2.05 0 2.83L4 21.41c.39.39.9.59 1.41.59.51 0 1.02-.2 1.41-.59l7.78-7.78 2.81-2.81c.8-.78.8-2.07 0-2.86zM5.41 20L4 18.59l7.72-7.72 1.47 1.35L5.41 20z\"/>\n",
              "  </svg>\n",
              "      </button>\n",
              "      \n",
              "  <style>\n",
              "    .colab-df-container {\n",
              "      display:flex;\n",
              "      flex-wrap:wrap;\n",
              "      gap: 12px;\n",
              "    }\n",
              "\n",
              "    .colab-df-convert {\n",
              "      background-color: #E8F0FE;\n",
              "      border: none;\n",
              "      border-radius: 50%;\n",
              "      cursor: pointer;\n",
              "      display: none;\n",
              "      fill: #1967D2;\n",
              "      height: 32px;\n",
              "      padding: 0 0 0 0;\n",
              "      width: 32px;\n",
              "    }\n",
              "\n",
              "    .colab-df-convert:hover {\n",
              "      background-color: #E2EBFA;\n",
              "      box-shadow: 0px 1px 2px rgba(60, 64, 67, 0.3), 0px 1px 3px 1px rgba(60, 64, 67, 0.15);\n",
              "      fill: #174EA6;\n",
              "    }\n",
              "\n",
              "    [theme=dark] .colab-df-convert {\n",
              "      background-color: #3B4455;\n",
              "      fill: #D2E3FC;\n",
              "    }\n",
              "\n",
              "    [theme=dark] .colab-df-convert:hover {\n",
              "      background-color: #434B5C;\n",
              "      box-shadow: 0px 1px 3px 1px rgba(0, 0, 0, 0.15);\n",
              "      filter: drop-shadow(0px 1px 2px rgba(0, 0, 0, 0.3));\n",
              "      fill: #FFFFFF;\n",
              "    }\n",
              "  </style>\n",
              "\n",
              "      <script>\n",
              "        const buttonEl =\n",
              "          document.querySelector('#df-67c69ec6-eb69-4d72-95bf-41ae55545281 button.colab-df-convert');\n",
              "        buttonEl.style.display =\n",
              "          google.colab.kernel.accessAllowed ? 'block' : 'none';\n",
              "\n",
              "        async function convertToInteractive(key) {\n",
              "          const element = document.querySelector('#df-67c69ec6-eb69-4d72-95bf-41ae55545281');\n",
              "          const dataTable =\n",
              "            await google.colab.kernel.invokeFunction('convertToInteractive',\n",
              "                                                     [key], {});\n",
              "          if (!dataTable) return;\n",
              "\n",
              "          const docLinkHtml = 'Like what you see? Visit the ' +\n",
              "            '<a target=\"_blank\" href=https://colab.research.google.com/notebooks/data_table.ipynb>data table notebook</a>'\n",
              "            + ' to learn more about interactive tables.';\n",
              "          element.innerHTML = '';\n",
              "          dataTable['output_type'] = 'display_data';\n",
              "          await google.colab.output.renderOutput(dataTable, element);\n",
              "          const docLink = document.createElement('div');\n",
              "          docLink.innerHTML = docLinkHtml;\n",
              "          element.appendChild(docLink);\n",
              "        }\n",
              "      </script>\n",
              "    </div>\n",
              "  </div>\n",
              "  "
            ]
          },
          "metadata": {},
          "execution_count": 4
        }
      ]
    },
    {
      "cell_type": "code",
      "source": [
        "df.isnull().sum()"
      ],
      "metadata": {
        "colab": {
          "base_uri": "https://localhost:8080/"
        },
        "id": "hTO34k98rNYh",
        "outputId": "22922b2f-4748-4db7-9663-2dc8ee50d9c2"
      },
      "execution_count": 5,
      "outputs": [
        {
          "output_type": "execute_result",
          "data": {
            "text/plain": [
              "tweet    0\n",
              "label    0\n",
              "dtype: int64"
            ]
          },
          "metadata": {},
          "execution_count": 5
        }
      ]
    },
    {
      "cell_type": "markdown",
      "source": [
        "There is no missing values"
      ],
      "metadata": {
        "id": "hsjts5a4bmpJ"
      }
    },
    {
      "cell_type": "markdown",
      "source": [
        "#Data Preprocessing"
      ],
      "metadata": {
        "id": "Z1iqCPUEbs0w"
      }
    },
    {
      "cell_type": "code",
      "source": [
        "!pip install neattext\n",
        "import neattext.functions as nfx"
      ],
      "metadata": {
        "colab": {
          "base_uri": "https://localhost:8080/"
        },
        "id": "5OJ4pyll0cZb",
        "outputId": "bede60d0-5759-4d5f-b9e2-a55d42f2a3d5"
      },
      "execution_count": 6,
      "outputs": [
        {
          "output_type": "stream",
          "name": "stdout",
          "text": [
            "Looking in indexes: https://pypi.org/simple, https://us-python.pkg.dev/colab-wheels/public/simple/\n",
            "Requirement already satisfied: neattext in /usr/local/lib/python3.8/dist-packages (0.1.3)\n"
          ]
        }
      ]
    },
    {
      "cell_type": "code",
      "source": [
        "# Cleaning Text: Multiple hashtags\n",
        "df['clean_tweet'] = df['tweet'].apply(nfx.remove_hashtags)\n",
        "\n",
        "# Cleaning Text: userhandles\n",
        "df['clean_tweet'] = df['clean_tweet'].apply(lambda x: nfx.remove_userhandles(x))\n",
        "\n",
        "# Cleaning Text : Remove urls\n",
        "df['clean_tweet'] = df['clean_tweet'].apply(nfx.remove_urls)\n",
        "\n",
        "# Cleaning Text : custom remove special characters (':', ',', ';', '.', '|','-','_','^', [&amp, &yen, ....])\n",
        "df['clean_tweet'] = df['clean_tweet'].apply(lambda x: nfx.remove_custom_pattern(x,':+|\\,+|\\;+|\\.+|\\\"+|\\|+|\\-+|\\_+|\\%+|\\^|\\*|\\&[a-zA-Z]*'))\n",
        "df['clean_tweet'] = df['clean_tweet'].apply(lambda x: nfx.remove_custom_words(x,'\\n'))\n",
        "\n",
        "# Cleaning Text: Punctuations\n",
        "df['clean_tweet'] = df['clean_tweet'].apply(nfx.remove_puncts)\n",
        "df['clean_tweet'] = df['clean_tweet'].apply(nfx.remove_punctuations)\n",
        "\n",
        "# Cleaning Text: dates\n",
        "df['clean_tweet'] = df['clean_tweet'].apply(nfx.remove_dates)\n",
        "\n",
        "# Cleaning Text: Emails\n",
        "df['clean_tweet'] = df['clean_tweet'].apply(nfx.remove_emails)\n",
        "\n",
        "# Cleaning Text: Numbers\n",
        "df['clean_tweet'] = df['clean_tweet'].apply(nfx.remove_numbers)\n",
        "\n",
        "# Cleaning Text: Special Character\n",
        "df['clean_tweet'] = df['clean_tweet'].apply(nfx.remove_special_characters)\n",
        "\n",
        "# Cleaning Text: Multiple WhiteSpaces\n",
        "df['clean_tweet'] = df['clean_tweet'].apply(nfx.remove_multiple_spaces)"
      ],
      "metadata": {
        "id": "HiG9mMmutcHE"
      },
      "execution_count": 7,
      "outputs": []
    },
    {
      "cell_type": "code",
      "source": [
        "df=df.drop(\"tweet\", axis = 1)"
      ],
      "metadata": {
        "id": "rk-2YjUZ3Z0Y"
      },
      "execution_count": 8,
      "outputs": []
    },
    {
      "cell_type": "code",
      "source": [
        "import nltk\n",
        "from nltk.corpus import stopwords\n",
        "nltk.download('stopwords')\n",
        "stopwords = stopwords.words('english')\n",
        "\n",
        "tags = \"[^A-Za-z]+\"\n",
        "\n",
        "\n",
        "def preprocess_text(sentence):\n",
        "    \n",
        "    sentence = re.sub(tags,' ', str(sentence).lower()).strip()\n",
        "    text = []\n",
        "    w=\"\"\n",
        "    for word in sentence.split():\n",
        "        \n",
        "        if word not in stopwords and len(word) >= 3:\n",
        "            text.append(word)\n",
        "                \n",
        "    return \" \".join([str(i) for i in text])"
      ],
      "metadata": {
        "colab": {
          "base_uri": "https://localhost:8080/"
        },
        "id": "0a31B8vM6zYb",
        "outputId": "9ac7847e-2ea7-4b82-972b-3e36043b0ce6"
      },
      "execution_count": 9,
      "outputs": [
        {
          "output_type": "stream",
          "name": "stderr",
          "text": [
            "[nltk_data] Downloading package stopwords to /root/nltk_data...\n",
            "[nltk_data]   Package stopwords is already up-to-date!\n"
          ]
        }
      ]
    },
    {
      "cell_type": "code",
      "source": [
        "df.clean_tweet = df.clean_tweet.map(preprocess_text)\n",
        "df.head()"
      ],
      "metadata": {
        "colab": {
          "base_uri": "https://localhost:8080/",
          "height": 206
        },
        "id": "h7REvZo27yjU",
        "outputId": "f3555397-26ca-42ca-b4b6-c06af9e93e9c"
      },
      "execution_count": 10,
      "outputs": [
        {
          "output_type": "execute_result",
          "data": {
            "text/plain": [
              "  label                                        clean_tweet\n",
              "0   neu            coronavirus human coronavirus types cdc\n",
              "1   neu  thats true corona virus swine flue bird flu de...\n",
              "2   neg  tldr sars possibly new coronavirus difficult c...\n",
              "3   neu  disease outbreak news middle east respiratory ...\n",
              "4   neu  china media wsj says sources tell mystery pneu..."
            ],
            "text/html": [
              "\n",
              "  <div id=\"df-0a291a5d-d99d-4af2-aabb-b1d80043f872\">\n",
              "    <div class=\"colab-df-container\">\n",
              "      <div>\n",
              "<style scoped>\n",
              "    .dataframe tbody tr th:only-of-type {\n",
              "        vertical-align: middle;\n",
              "    }\n",
              "\n",
              "    .dataframe tbody tr th {\n",
              "        vertical-align: top;\n",
              "    }\n",
              "\n",
              "    .dataframe thead th {\n",
              "        text-align: right;\n",
              "    }\n",
              "</style>\n",
              "<table border=\"1\" class=\"dataframe\">\n",
              "  <thead>\n",
              "    <tr style=\"text-align: right;\">\n",
              "      <th></th>\n",
              "      <th>label</th>\n",
              "      <th>clean_tweet</th>\n",
              "    </tr>\n",
              "  </thead>\n",
              "  <tbody>\n",
              "    <tr>\n",
              "      <th>0</th>\n",
              "      <td>neu</td>\n",
              "      <td>coronavirus human coronavirus types cdc</td>\n",
              "    </tr>\n",
              "    <tr>\n",
              "      <th>1</th>\n",
              "      <td>neu</td>\n",
              "      <td>thats true corona virus swine flue bird flu de...</td>\n",
              "    </tr>\n",
              "    <tr>\n",
              "      <th>2</th>\n",
              "      <td>neg</td>\n",
              "      <td>tldr sars possibly new coronavirus difficult c...</td>\n",
              "    </tr>\n",
              "    <tr>\n",
              "      <th>3</th>\n",
              "      <td>neu</td>\n",
              "      <td>disease outbreak news middle east respiratory ...</td>\n",
              "    </tr>\n",
              "    <tr>\n",
              "      <th>4</th>\n",
              "      <td>neu</td>\n",
              "      <td>china media wsj says sources tell mystery pneu...</td>\n",
              "    </tr>\n",
              "  </tbody>\n",
              "</table>\n",
              "</div>\n",
              "      <button class=\"colab-df-convert\" onclick=\"convertToInteractive('df-0a291a5d-d99d-4af2-aabb-b1d80043f872')\"\n",
              "              title=\"Convert this dataframe to an interactive table.\"\n",
              "              style=\"display:none;\">\n",
              "        \n",
              "  <svg xmlns=\"http://www.w3.org/2000/svg\" height=\"24px\"viewBox=\"0 0 24 24\"\n",
              "       width=\"24px\">\n",
              "    <path d=\"M0 0h24v24H0V0z\" fill=\"none\"/>\n",
              "    <path d=\"M18.56 5.44l.94 2.06.94-2.06 2.06-.94-2.06-.94-.94-2.06-.94 2.06-2.06.94zm-11 1L8.5 8.5l.94-2.06 2.06-.94-2.06-.94L8.5 2.5l-.94 2.06-2.06.94zm10 10l.94 2.06.94-2.06 2.06-.94-2.06-.94-.94-2.06-.94 2.06-2.06.94z\"/><path d=\"M17.41 7.96l-1.37-1.37c-.4-.4-.92-.59-1.43-.59-.52 0-1.04.2-1.43.59L10.3 9.45l-7.72 7.72c-.78.78-.78 2.05 0 2.83L4 21.41c.39.39.9.59 1.41.59.51 0 1.02-.2 1.41-.59l7.78-7.78 2.81-2.81c.8-.78.8-2.07 0-2.86zM5.41 20L4 18.59l7.72-7.72 1.47 1.35L5.41 20z\"/>\n",
              "  </svg>\n",
              "      </button>\n",
              "      \n",
              "  <style>\n",
              "    .colab-df-container {\n",
              "      display:flex;\n",
              "      flex-wrap:wrap;\n",
              "      gap: 12px;\n",
              "    }\n",
              "\n",
              "    .colab-df-convert {\n",
              "      background-color: #E8F0FE;\n",
              "      border: none;\n",
              "      border-radius: 50%;\n",
              "      cursor: pointer;\n",
              "      display: none;\n",
              "      fill: #1967D2;\n",
              "      height: 32px;\n",
              "      padding: 0 0 0 0;\n",
              "      width: 32px;\n",
              "    }\n",
              "\n",
              "    .colab-df-convert:hover {\n",
              "      background-color: #E2EBFA;\n",
              "      box-shadow: 0px 1px 2px rgba(60, 64, 67, 0.3), 0px 1px 3px 1px rgba(60, 64, 67, 0.15);\n",
              "      fill: #174EA6;\n",
              "    }\n",
              "\n",
              "    [theme=dark] .colab-df-convert {\n",
              "      background-color: #3B4455;\n",
              "      fill: #D2E3FC;\n",
              "    }\n",
              "\n",
              "    [theme=dark] .colab-df-convert:hover {\n",
              "      background-color: #434B5C;\n",
              "      box-shadow: 0px 1px 3px 1px rgba(0, 0, 0, 0.15);\n",
              "      filter: drop-shadow(0px 1px 2px rgba(0, 0, 0, 0.3));\n",
              "      fill: #FFFFFF;\n",
              "    }\n",
              "  </style>\n",
              "\n",
              "      <script>\n",
              "        const buttonEl =\n",
              "          document.querySelector('#df-0a291a5d-d99d-4af2-aabb-b1d80043f872 button.colab-df-convert');\n",
              "        buttonEl.style.display =\n",
              "          google.colab.kernel.accessAllowed ? 'block' : 'none';\n",
              "\n",
              "        async function convertToInteractive(key) {\n",
              "          const element = document.querySelector('#df-0a291a5d-d99d-4af2-aabb-b1d80043f872');\n",
              "          const dataTable =\n",
              "            await google.colab.kernel.invokeFunction('convertToInteractive',\n",
              "                                                     [key], {});\n",
              "          if (!dataTable) return;\n",
              "\n",
              "          const docLinkHtml = 'Like what you see? Visit the ' +\n",
              "            '<a target=\"_blank\" href=https://colab.research.google.com/notebooks/data_table.ipynb>data table notebook</a>'\n",
              "            + ' to learn more about interactive tables.';\n",
              "          element.innerHTML = '';\n",
              "          dataTable['output_type'] = 'display_data';\n",
              "          await google.colab.output.renderOutput(dataTable, element);\n",
              "          const docLink = document.createElement('div');\n",
              "          docLink.innerHTML = docLinkHtml;\n",
              "          element.appendChild(docLink);\n",
              "        }\n",
              "      </script>\n",
              "    </div>\n",
              "  </div>\n",
              "  "
            ]
          },
          "metadata": {},
          "execution_count": 10
        }
      ]
    },
    {
      "cell_type": "code",
      "source": [
        "# Extracting Target / Class Labels\n",
        "# Extracting Attributes / Features\n",
        "y=df[\"label\"]\n",
        "X=df.drop(\"label\", axis = 1)"
      ],
      "metadata": {
        "id": "UYLJ1-mFrZsK"
      },
      "execution_count": 11,
      "outputs": []
    },
    {
      "cell_type": "code",
      "source": [
        "X.shape"
      ],
      "metadata": {
        "colab": {
          "base_uri": "https://localhost:8080/"
        },
        "id": "HlDgEabktQNU",
        "outputId": "fcebe122-91ee-4f83-e9a4-b3ca0c94434b"
      },
      "execution_count": 12,
      "outputs": [
        {
          "output_type": "execute_result",
          "data": {
            "text/plain": [
              "(30000, 1)"
            ]
          },
          "metadata": {},
          "execution_count": 12
        }
      ]
    },
    {
      "cell_type": "code",
      "source": [
        "encoding = {'neg': 0,\n",
        "            'neu': 1,\n",
        "            'pos':2,\n",
        "           }\n",
        "           \n",
        "\n",
        "y.replace(encoding, inplace=True)"
      ],
      "metadata": {
        "id": "F5zMurjdrj47"
      },
      "execution_count": 13,
      "outputs": []
    },
    {
      "cell_type": "code",
      "source": [
        "y=y.values.reshape(-1,1)"
      ],
      "metadata": {
        "id": "HltyoXi5tWHQ"
      },
      "execution_count": 14,
      "outputs": []
    },
    {
      "cell_type": "code",
      "source": [
        "df.label.value_counts().plot.pie(autopct='%1.1f%%', labels=None, legend=True)\n",
        "plt.tight_layout ()"
      ],
      "metadata": {
        "colab": {
          "base_uri": "https://localhost:8080/",
          "height": 297
        },
        "id": "ibs282qjt-TP",
        "outputId": "d37f96e9-2286-43a5-a9a3-042e17af7b8c"
      },
      "execution_count": 15,
      "outputs": [
        {
          "output_type": "display_data",
          "data": {
            "text/plain": [
              "<Figure size 432x288 with 1 Axes>"
            ],
            "image/png": "[encoded data removed]"
          },
          "metadata": {}
        }
      ]
    },
    {
      "cell_type": "code",
      "source": [
        "# Creating Train and Test datasets\n",
        "X_train, X_test, y_train, y_test = train_test_split(X,y, test_size = 0.30, random_state = 42)\n",
        "print(X_train.shape, X_test.shape)"
      ],
      "metadata": {
        "colab": {
          "base_uri": "https://localhost:8080/"
        },
        "id": "pe2CqtXGu8zq",
        "outputId": "718fd5bc-d5c3-4ea7-a109-b90b7555ed03"
      },
      "execution_count": 16,
      "outputs": [
        {
          "output_type": "stream",
          "name": "stdout",
          "text": [
            "(21000, 1) (9000, 1)\n"
          ]
        }
      ]
    },
    {
      "cell_type": "code",
      "source": [
        "df_train = pd.DataFrame()\n",
        "df_train['tweet'] = X_train\n",
        "df_train['label'] = y_train\n",
        "df_train"
      ],
      "metadata": {
        "colab": {
          "base_uri": "https://localhost:8080/",
          "height": 424
        },
        "id": "EiR-lb8slz-w",
        "outputId": "4ba7b1b7-98fa-4e2d-cd7d-c2762482f94a"
      },
      "execution_count": 17,
      "outputs": [
        {
          "output_type": "execute_result",
          "data": {
            "text/plain": [
              "                                                   tweet  label\n",
              "28465  two suspected covid cases registered jalisco t...      0\n",
              "27622     hello uploaded report canadians effected covid      1\n",
              "28376                             wish could coronavirus      1\n",
              "10917  cases coronavirus mississippi health officials...      1\n",
              "27234    facebook bowing gdc citing coronavirus concerns      1\n",
              "...                                                  ...    ...\n",
              "29802  south koreairanitaly confirmed cases surge cra...      0\n",
              "5390   michael coston japan moh new coronavirus cases...      1\n",
              "860    report passenger arrives lax potential coronav...      1\n",
              "15795            might coronavirus change world comments      1\n",
              "23654  chinese coronavirus doctor goes work husband d...      1\n",
              "\n",
              "[21000 rows x 2 columns]"
            ],
            "text/html": [
              "\n",
              "  <div id=\"df-07e91a5f-133c-439a-b538-d62e2167bcd9\">\n",
              "    <div class=\"colab-df-container\">\n",
              "      <div>\n",
              "<style scoped>\n",
              "    .dataframe tbody tr th:only-of-type {\n",
              "        vertical-align: middle;\n",
              "    }\n",
              "\n",
              "    .dataframe tbody tr th {\n",
              "        vertical-align: top;\n",
              "    }\n",
              "\n",
              "    .dataframe thead th {\n",
              "        text-align: right;\n",
              "    }\n",
              "</style>\n",
              "<table border=\"1\" class=\"dataframe\">\n",
              "  <thead>\n",
              "    <tr style=\"text-align: right;\">\n",
              "      <th></th>\n",
              "      <th>tweet</th>\n",
              "      <th>label</th>\n",
              "    </tr>\n",
              "  </thead>\n",
              "  <tbody>\n",
              "    <tr>\n",
              "      <th>28465</th>\n",
              "      <td>two suspected covid cases registered jalisco t...</td>\n",
              "      <td>0</td>\n",
              "    </tr>\n",
              "    <tr>\n",
              "      <th>27622</th>\n",
              "      <td>hello uploaded report canadians effected covid</td>\n",
              "      <td>1</td>\n",
              "    </tr>\n",
              "    <tr>\n",
              "      <th>28376</th>\n",
              "      <td>wish could coronavirus</td>\n",
              "      <td>1</td>\n",
              "    </tr>\n",
              "    <tr>\n",
              "      <th>10917</th>\n",
              "      <td>cases coronavirus mississippi health officials...</td>\n",
              "      <td>1</td>\n",
              "    </tr>\n",
              "    <tr>\n",
              "      <th>27234</th>\n",
              "      <td>facebook bowing gdc citing coronavirus concerns</td>\n",
              "      <td>1</td>\n",
              "    </tr>\n",
              "    <tr>\n",
              "      <th>...</th>\n",
              "      <td>...</td>\n",
              "      <td>...</td>\n",
              "    </tr>\n",
              "    <tr>\n",
              "      <th>29802</th>\n",
              "      <td>south koreairanitaly confirmed cases surge cra...</td>\n",
              "      <td>0</td>\n",
              "    </tr>\n",
              "    <tr>\n",
              "      <th>5390</th>\n",
              "      <td>michael coston japan moh new coronavirus cases...</td>\n",
              "      <td>1</td>\n",
              "    </tr>\n",
              "    <tr>\n",
              "      <th>860</th>\n",
              "      <td>report passenger arrives lax potential coronav...</td>\n",
              "      <td>1</td>\n",
              "    </tr>\n",
              "    <tr>\n",
              "      <th>15795</th>\n",
              "      <td>might coronavirus change world comments</td>\n",
              "      <td>1</td>\n",
              "    </tr>\n",
              "    <tr>\n",
              "      <th>23654</th>\n",
              "      <td>chinese coronavirus doctor goes work husband d...</td>\n",
              "      <td>1</td>\n",
              "    </tr>\n",
              "  </tbody>\n",
              "</table>\n",
              "<p>21000 rows × 2 columns</p>\n",
              "</div>\n",
              "      <button class=\"colab-df-convert\" onclick=\"convertToInteractive('df-07e91a5f-133c-439a-b538-d62e2167bcd9')\"\n",
              "              title=\"Convert this dataframe to an interactive table.\"\n",
              "              style=\"display:none;\">\n",
              "        \n",
              "  <svg xmlns=\"http://www.w3.org/2000/svg\" height=\"24px\"viewBox=\"0 0 24 24\"\n",
              "       width=\"24px\">\n",
              "    <path d=\"M0 0h24v24H0V0z\" fill=\"none\"/>\n",
              "    <path d=\"M18.56 5.44l.94 2.06.94-2.06 2.06-.94-2.06-.94-.94-2.06-.94 2.06-2.06.94zm-11 1L8.5 8.5l.94-2.06 2.06-.94-2.06-.94L8.5 2.5l-.94 2.06-2.06.94zm10 10l.94 2.06.94-2.06 2.06-.94-2.06-.94-.94-2.06-.94 2.06-2.06.94z\"/><path d=\"M17.41 7.96l-1.37-1.37c-.4-.4-.92-.59-1.43-.59-.52 0-1.04.2-1.43.59L10.3 9.45l-7.72 7.72c-.78.78-.78 2.05 0 2.83L4 21.41c.39.39.9.59 1.41.59.51 0 1.02-.2 1.41-.59l7.78-7.78 2.81-2.81c.8-.78.8-2.07 0-2.86zM5.41 20L4 18.59l7.72-7.72 1.47 1.35L5.41 20z\"/>\n",
              "  </svg>\n",
              "      </button>\n",
              "      \n",
              "  <style>\n",
              "    .colab-df-container {\n",
              "      display:flex;\n",
              "      flex-wrap:wrap;\n",
              "      gap: 12px;\n",
              "    }\n",
              "\n",
              "    .colab-df-convert {\n",
              "      background-color: #E8F0FE;\n",
              "      border: none;\n",
              "      border-radius: 50%;\n",
              "      cursor: pointer;\n",
              "      display: none;\n",
              "      fill: #1967D2;\n",
              "      height: 32px;\n",
              "      padding: 0 0 0 0;\n",
              "      width: 32px;\n",
              "    }\n",
              "\n",
              "    .colab-df-convert:hover {\n",
              "      background-color: #E2EBFA;\n",
              "      box-shadow: 0px 1px 2px rgba(60, 64, 67, 0.3), 0px 1px 3px 1px rgba(60, 64, 67, 0.15);\n",
              "      fill: #174EA6;\n",
              "    }\n",
              "\n",
              "    [theme=dark] .colab-df-convert {\n",
              "      background-color: #3B4455;\n",
              "      fill: #D2E3FC;\n",
              "    }\n",
              "\n",
              "    [theme=dark] .colab-df-convert:hover {\n",
              "      background-color: #434B5C;\n",
              "      box-shadow: 0px 1px 3px 1px rgba(0, 0, 0, 0.15);\n",
              "      filter: drop-shadow(0px 1px 2px rgba(0, 0, 0, 0.3));\n",
              "      fill: #FFFFFF;\n",
              "    }\n",
              "  </style>\n",
              "\n",
              "      <script>\n",
              "        const buttonEl =\n",
              "          document.querySelector('#df-07e91a5f-133c-439a-b538-d62e2167bcd9 button.colab-df-convert');\n",
              "        buttonEl.style.display =\n",
              "          google.colab.kernel.accessAllowed ? 'block' : 'none';\n",
              "\n",
              "        async function convertToInteractive(key) {\n",
              "          const element = document.querySelector('#df-07e91a5f-133c-439a-b538-d62e2167bcd9');\n",
              "          const dataTable =\n",
              "            await google.colab.kernel.invokeFunction('convertToInteractive',\n",
              "                                                     [key], {});\n",
              "          if (!dataTable) return;\n",
              "\n",
              "          const docLinkHtml = 'Like what you see? Visit the ' +\n",
              "            '<a target=\"_blank\" href=https://colab.research.google.com/notebooks/data_table.ipynb>data table notebook</a>'\n",
              "            + ' to learn more about interactive tables.';\n",
              "          element.innerHTML = '';\n",
              "          dataTable['output_type'] = 'display_data';\n",
              "          await google.colab.output.renderOutput(dataTable, element);\n",
              "          const docLink = document.createElement('div');\n",
              "          docLink.innerHTML = docLinkHtml;\n",
              "          element.appendChild(docLink);\n",
              "        }\n",
              "      </script>\n",
              "    </div>\n",
              "  </div>\n",
              "  "
            ]
          },
          "metadata": {},
          "execution_count": 17
        }
      ]
    },
    {
      "cell_type": "code",
      "source": [
        "df_test = pd.DataFrame()\n",
        "df_test['tweet'] = X_test\n",
        "df_test['label'] = y_test\n",
        "df_test\n",
        "     "
      ],
      "metadata": {
        "colab": {
          "base_uri": "https://localhost:8080/",
          "height": 424
        },
        "id": "XlciTbqImVI6",
        "outputId": "43c09dce-675c-4122-c403-a5035c423959"
      },
      "execution_count": 18,
      "outputs": [
        {
          "output_type": "execute_result",
          "data": {
            "text/plain": [
              "                                                   tweet  label\n",
              "2308   stay safe healthy moots whose countries get in...      1\n",
              "22404                          corona virus thanos crazy      0\n",
              "23397  end world coronavirus panic african locust pla...      1\n",
              "25058  prevent spread covid hong kong diocese cancels...      1\n",
              "2664   chinese leader warns grave coronavirus crisis via      1\n",
              "...                                                  ...    ...\n",
              "3941   million potential carriers left wuhan coronavi...      1\n",
              "17854  corona virus lied whole cities china shut chin...      0\n",
              "95     think new coronavirus reaches tougher stance a...      1\n",
              "6279   white house tells airlines may suspend flights...      1\n",
              "26428  chinas global times impact coronavirus still s...      1\n",
              "\n",
              "[9000 rows x 2 columns]"
            ],
            "text/html": [
              "\n",
              "  <div id=\"df-ece48a6a-f535-4f42-927f-cf5c0b5e533c\">\n",
              "    <div class=\"colab-df-container\">\n",
              "      <div>\n",
              "<style scoped>\n",
              "    .dataframe tbody tr th:only-of-type {\n",
              "        vertical-align: middle;\n",
              "    }\n",
              "\n",
              "    .dataframe tbody tr th {\n",
              "        vertical-align: top;\n",
              "    }\n",
              "\n",
              "    .dataframe thead th {\n",
              "        text-align: right;\n",
              "    }\n",
              "</style>\n",
              "<table border=\"1\" class=\"dataframe\">\n",
              "  <thead>\n",
              "    <tr style=\"text-align: right;\">\n",
              "      <th></th>\n",
              "      <th>tweet</th>\n",
              "      <th>label</th>\n",
              "    </tr>\n",
              "  </thead>\n",
              "  <tbody>\n",
              "    <tr>\n",
              "      <th>2308</th>\n",
              "      <td>stay safe healthy moots whose countries get in...</td>\n",
              "      <td>1</td>\n",
              "    </tr>\n",
              "    <tr>\n",
              "      <th>22404</th>\n",
              "      <td>corona virus thanos crazy</td>\n",
              "      <td>0</td>\n",
              "    </tr>\n",
              "    <tr>\n",
              "      <th>23397</th>\n",
              "      <td>end world coronavirus panic african locust pla...</td>\n",
              "      <td>1</td>\n",
              "    </tr>\n",
              "    <tr>\n",
              "      <th>25058</th>\n",
              "      <td>prevent spread covid hong kong diocese cancels...</td>\n",
              "      <td>1</td>\n",
              "    </tr>\n",
              "    <tr>\n",
              "      <th>2664</th>\n",
              "      <td>chinese leader warns grave coronavirus crisis via</td>\n",
              "      <td>1</td>\n",
              "    </tr>\n",
              "    <tr>\n",
              "      <th>...</th>\n",
              "      <td>...</td>\n",
              "      <td>...</td>\n",
              "    </tr>\n",
              "    <tr>\n",
              "      <th>3941</th>\n",
              "      <td>million potential carriers left wuhan coronavi...</td>\n",
              "      <td>1</td>\n",
              "    </tr>\n",
              "    <tr>\n",
              "      <th>17854</th>\n",
              "      <td>corona virus lied whole cities china shut chin...</td>\n",
              "      <td>0</td>\n",
              "    </tr>\n",
              "    <tr>\n",
              "      <th>95</th>\n",
              "      <td>think new coronavirus reaches tougher stance a...</td>\n",
              "      <td>1</td>\n",
              "    </tr>\n",
              "    <tr>\n",
              "      <th>6279</th>\n",
              "      <td>white house tells airlines may suspend flights...</td>\n",
              "      <td>1</td>\n",
              "    </tr>\n",
              "    <tr>\n",
              "      <th>26428</th>\n",
              "      <td>chinas global times impact coronavirus still s...</td>\n",
              "      <td>1</td>\n",
              "    </tr>\n",
              "  </tbody>\n",
              "</table>\n",
              "<p>9000 rows × 2 columns</p>\n",
              "</div>\n",
              "      <button class=\"colab-df-convert\" onclick=\"convertToInteractive('df-ece48a6a-f535-4f42-927f-cf5c0b5e533c')\"\n",
              "              title=\"Convert this dataframe to an interactive table.\"\n",
              "              style=\"display:none;\">\n",
              "        \n",
              "  <svg xmlns=\"http://www.w3.org/2000/svg\" height=\"24px\"viewBox=\"0 0 24 24\"\n",
              "       width=\"24px\">\n",
              "    <path d=\"M0 0h24v24H0V0z\" fill=\"none\"/>\n",
              "    <path d=\"M18.56 5.44l.94 2.06.94-2.06 2.06-.94-2.06-.94-.94-2.06-.94 2.06-2.06.94zm-11 1L8.5 8.5l.94-2.06 2.06-.94-2.06-.94L8.5 2.5l-.94 2.06-2.06.94zm10 10l.94 2.06.94-2.06 2.06-.94-2.06-.94-.94-2.06-.94 2.06-2.06.94z\"/><path d=\"M17.41 7.96l-1.37-1.37c-.4-.4-.92-.59-1.43-.59-.52 0-1.04.2-1.43.59L10.3 9.45l-7.72 7.72c-.78.78-.78 2.05 0 2.83L4 21.41c.39.39.9.59 1.41.59.51 0 1.02-.2 1.41-.59l7.78-7.78 2.81-2.81c.8-.78.8-2.07 0-2.86zM5.41 20L4 18.59l7.72-7.72 1.47 1.35L5.41 20z\"/>\n",
              "  </svg>\n",
              "      </button>\n",
              "      \n",
              "  <style>\n",
              "    .colab-df-container {\n",
              "      display:flex;\n",
              "      flex-wrap:wrap;\n",
              "      gap: 12px;\n",
              "    }\n",
              "\n",
              "    .colab-df-convert {\n",
              "      background-color: #E8F0FE;\n",
              "      border: none;\n",
              "      border-radius: 50%;\n",
              "      cursor: pointer;\n",
              "      display: none;\n",
              "      fill: #1967D2;\n",
              "      height: 32px;\n",
              "      padding: 0 0 0 0;\n",
              "      width: 32px;\n",
              "    }\n",
              "\n",
              "    .colab-df-convert:hover {\n",
              "      background-color: #E2EBFA;\n",
              "      box-shadow: 0px 1px 2px rgba(60, 64, 67, 0.3), 0px 1px 3px 1px rgba(60, 64, 67, 0.15);\n",
              "      fill: #174EA6;\n",
              "    }\n",
              "\n",
              "    [theme=dark] .colab-df-convert {\n",
              "      background-color: #3B4455;\n",
              "      fill: #D2E3FC;\n",
              "    }\n",
              "\n",
              "    [theme=dark] .colab-df-convert:hover {\n",
              "      background-color: #434B5C;\n",
              "      box-shadow: 0px 1px 3px 1px rgba(0, 0, 0, 0.15);\n",
              "      filter: drop-shadow(0px 1px 2px rgba(0, 0, 0, 0.3));\n",
              "      fill: #FFFFFF;\n",
              "    }\n",
              "  </style>\n",
              "\n",
              "      <script>\n",
              "        const buttonEl =\n",
              "          document.querySelector('#df-ece48a6a-f535-4f42-927f-cf5c0b5e533c button.colab-df-convert');\n",
              "        buttonEl.style.display =\n",
              "          google.colab.kernel.accessAllowed ? 'block' : 'none';\n",
              "\n",
              "        async function convertToInteractive(key) {\n",
              "          const element = document.querySelector('#df-ece48a6a-f535-4f42-927f-cf5c0b5e533c');\n",
              "          const dataTable =\n",
              "            await google.colab.kernel.invokeFunction('convertToInteractive',\n",
              "                                                     [key], {});\n",
              "          if (!dataTable) return;\n",
              "\n",
              "          const docLinkHtml = 'Like what you see? Visit the ' +\n",
              "            '<a target=\"_blank\" href=https://colab.research.google.com/notebooks/data_table.ipynb>data table notebook</a>'\n",
              "            + ' to learn more about interactive tables.';\n",
              "          element.innerHTML = '';\n",
              "          dataTable['output_type'] = 'display_data';\n",
              "          await google.colab.output.renderOutput(dataTable, element);\n",
              "          const docLink = document.createElement('div');\n",
              "          docLink.innerHTML = docLinkHtml;\n",
              "          element.appendChild(docLink);\n",
              "        }\n",
              "      </script>\n",
              "    </div>\n",
              "  </div>\n",
              "  "
            ]
          },
          "metadata": {},
          "execution_count": 18
        }
      ]
    },
    {
      "cell_type": "code",
      "source": [
        "tf_idf_vect = TfidfVectorizer(max_features = 5000)\n",
        "tf_idf_vect.fit(df['clean_tweet'])\n",
        "X_train_tfidf = tf_idf_vect.transform(df_train['tweet'])\n",
        "X_test_tfidf = tf_idf_vect.transform(df_test['tweet'])"
      ],
      "metadata": {
        "id": "tLSu4ecmmm2A"
      },
      "execution_count": 19,
      "outputs": []
    },
    {
      "cell_type": "code",
      "source": [
        "print(X_train_tfidf)"
      ],
      "metadata": {
        "colab": {
          "base_uri": "https://localhost:8080/"
        },
        "id": "xnLZPsAGmsTG",
        "outputId": "04c04d77-615f-4d37-97f8-40b6e7e0848b"
      },
      "execution_count": 20,
      "outputs": [
        {
          "output_type": "stream",
          "name": "stdout",
          "text": [
            "  (0, 4634)\t0.3880968600153727\n",
            "  (0, 4349)\t0.4224611575497165\n",
            "  (0, 3584)\t0.691318895121758\n",
            "  (0, 1007)\t0.3404997090645459\n",
            "  (0, 650)\t0.2775707675216418\n",
            "  (1, 4687)\t0.5741678971883154\n",
            "  (1, 3629)\t0.3647689732962583\n",
            "  (1, 2053)\t0.4812338803666768\n",
            "  (1, 1007)\t0.2827985801145946\n",
            "  (1, 609)\t0.4750933986398273\n",
            "  (2, 4895)\t0.831123043281413\n",
            "  (2, 983)\t0.5360185101200183\n",
            "  (2, 956)\t0.14804946381313958\n",
            "  (3, 4732)\t0.3629993084300912\n",
            "  (3, 3808)\t0.5158611702685612\n",
            "  (3, 3026)\t0.5234730184953682\n",
            "  (3, 2036)\t0.42166915188137394\n",
            "  (3, 956)\t0.13221367803355036\n",
            "  (3, 650)\t0.36443027273849976\n",
            "  (4, 1870)\t0.5893546202756013\n",
            "  (4, 1622)\t0.439016216951415\n",
            "  (4, 956)\t0.08584874141609676\n",
            "  (4, 873)\t0.36630880041620956\n",
            "  (4, 766)\t0.5642461777880111\n",
            "  (5, 4732)\t0.3126560193908282\n",
            "  :\t:\n",
            "  (20996, 744)\t0.16465551155018696\n",
            "  (20996, 650)\t0.21074020739796656\n",
            "  (20997, 4374)\t0.29132219154734423\n",
            "  (20997, 3629)\t0.312548892663656\n",
            "  (20997, 3305)\t0.34811234297086047\n",
            "  (20997, 3144)\t0.35872293246590553\n",
            "  (20997, 2523)\t0.4710108524107296\n",
            "  (20997, 2392)\t0.37381254731482966\n",
            "  (20997, 956)\t0.07166320387193804\n",
            "  (20997, 241)\t0.44817135829200344\n",
            "  (20998, 4921)\t0.34781655144862794\n",
            "  (20998, 2800)\t0.45817126650295165\n",
            "  (20998, 956)\t0.1031854458152726\n",
            "  (20998, 838)\t0.6083568866088943\n",
            "  (20998, 709)\t0.5369891985663227\n",
            "  (20999, 4913)\t0.23027103877597538\n",
            "  (20999, 4186)\t0.339560629554762\n",
            "  (20999, 2756)\t0.22551599754552035\n",
            "  (20999, 2171)\t0.623429591799199\n",
            "  (20999, 1921)\t0.2647499446560353\n",
            "  (20999, 1364)\t0.339560629554762\n",
            "  (20999, 1304)\t0.21027668554057433\n",
            "  (20999, 956)\t0.05166335870632312\n",
            "  (20999, 748)\t0.3005981339278507\n",
            "  (20999, 381)\t0.2636538012297305\n"
          ]
        }
      ]
    },
    {
      "cell_type": "code",
      "source": [
        "print(X_test_tfidf)"
      ],
      "metadata": {
        "colab": {
          "base_uri": "https://localhost:8080/"
        },
        "id": "TJ9AlybXnrj8",
        "outputId": "bbc21355-f4f3-46bd-92b0-1ef6886e8ee5"
      },
      "execution_count": 21,
      "outputs": [
        {
          "output_type": "stream",
          "name": "stdout",
          "text": [
            "  (0, 4867)\t0.4190299712998986\n",
            "  (0, 4216)\t0.29203785410860034\n",
            "  (0, 3781)\t0.2958302569247203\n",
            "  (0, 2688)\t0.4228657618958884\n",
            "  (0, 2288)\t0.23636272951895307\n",
            "  (0, 2038)\t0.36060178311616753\n",
            "  (0, 1891)\t0.23468109032351334\n",
            "  (0, 1514)\t0.38964890162083615\n",
            "  (0, 988)\t0.27491931154385824\n",
            "  (0, 956)\t0.06643558521152973\n",
            "  (1, 4753)\t0.35188741740138774\n",
            "  (1, 1017)\t0.8583930941032938\n",
            "  (1, 953)\t0.37327810205040857\n",
            "  (2, 4921)\t0.21640694626117798\n",
            "  (2, 4138)\t0.4086402628879981\n",
            "  (2, 3228)\t0.31743610297815184\n",
            "  (2, 3123)\t0.28560670907338914\n",
            "  (2, 2622)\t0.4274172210177732\n",
            "  (2, 1675)\t0.23184323877292645\n",
            "  (2, 1467)\t0.30479168461657546\n",
            "  (2, 956)\t0.0642006458130832\n",
            "  (2, 198)\t0.3849840933255323\n",
            "  (2, 80)\t0.349535524918236\n",
            "  (3, 4174)\t0.272431838590318\n",
            "  (3, 3356)\t0.3840433190394571\n",
            "  :\t:\n",
            "  (8996, 744)\t0.29227856050601064\n",
            "  (8996, 477)\t0.3372568467048044\n",
            "  (8997, 4461)\t0.553612750923858\n",
            "  (8997, 3524)\t0.7257885052345758\n",
            "  (8997, 2943)\t0.38332880485565884\n",
            "  (8997, 956)\t0.1407231148454679\n",
            "  (8998, 4863)\t0.36978897008856504\n",
            "  (8998, 4416)\t0.3906619735167122\n",
            "  (8998, 4351)\t0.38979162346380236\n",
            "  (8998, 3080)\t0.19661839124162084\n",
            "  (8998, 2739)\t0.27899396891519385\n",
            "  (8998, 2141)\t0.3584942777936964\n",
            "  (8998, 1750)\t0.3188812218216081\n",
            "  (8998, 153)\t0.27821128321295874\n",
            "  (8998, 105)\t0.366879414675391\n",
            "  (8999, 4732)\t0.21161535042792942\n",
            "  (8999, 4550)\t0.36999839842781196\n",
            "  (8999, 4498)\t0.3298953935187281\n",
            "  (8999, 4232)\t0.31916152859193064\n",
            "  (8999, 4177)\t0.29522197066315764\n",
            "  (8999, 2223)\t0.308392038158179\n",
            "  (8999, 1911)\t0.26444515406210023\n",
            "  (8999, 1790)\t0.5291277239465472\n",
            "  (8999, 956)\t0.07707574961902018\n",
            "  (8999, 745)\t0.2636576502387052\n"
          ]
        }
      ]
    },
    {
      "cell_type": "code",
      "source": [
        "print(tf_idf_vect.vocabulary_)"
      ],
      "metadata": {
        "colab": {
          "base_uri": "https://localhost:8080/"
        },
        "id": "ea-oV1xqnyYT",
        "outputId": "048b5574-c114-40e5-d334-8fcec6a3512f"
      },
      "execution_count": 22,
      "outputs": [
        {
          "output_type": "stream",
          "name": "stdout",
          "text": [
            "{'coronavirus': 956, 'human': 2156, 'types': 4636, 'cdc': 675, 'thats': 4445, 'true': 4604, 'corona': 953, 'virus': 4753, 'swine': 4365, 'bird': 423, 'flu': 1758, 'december': 1122, 'whole': 4865, 'busy': 580, 'sars': 3801, 'possibly': 3296, 'new': 2943, 'difficult': 1238, 'confirm': 887, 'patients': 3157, 'identified': 2187, 'later': 2509, 'infection': 2290, 'disease': 1269, 'outbreak': 3080, 'news': 2950, 'middle': 2797, 'east': 1409, 'respiratory': 3666, 'syndrome': 4375, 'mers': 2778, 'cov': 1000, 'united': 4666, 'arab': 219, 'china': 744, 'media': 2754, 'wsj': 4948, 'says': 3810, 'sources': 4130, 'tell': 4414, 'mystery': 2902, 'pneumonia': 3263, 'something': 4112, 'causing': 668, 'family': 1651, 'virologists': 4749, 'weigh': 4837, 'novel': 2990, 'chinas': 745, 'chinese': 748, 'authorities': 296, 'made': 2666, 'preliminary': 3335, 'keep': 2436, 'saying': 3809, 'unknown': 4671, 'cause': 665, 'obviously': 3010, 'related': 3589, 'lets': 2557, 'report': 3629, 'mysterious': 2901, 'illnesses': 2206, 'may': 2739, 'identifies': 2188, 'strain': 4251, 'source': 4129, 'always': 142, 'feel': 1686, 'weird': 4841, 'hoping': 2119, 'another': 176, 'research': 3647, 'illness': 2205, 'traced': 4545, 'cnet': 810, 'wuhan': 4952, 'caused': 666, 'bbc': 357, 'via': 4732, 'health': 2036, 'advisory': 69, 'ask': 256, 'severe': 3929, 'scientists': 3837, 'unusual': 4680, 'scary': 3822, 'scale': 3812, 'makes': 2682, 'debut': 1118, 'masks': 2727, 'genome': 1883, 'sequence': 3908, 'associated': 269, 'cluster': 806, 'crap': 1015, 'quick': 3479, 'search': 3855, 'suggests': 4306, 'looks': 2633, 'like': 2571, 'bat': 347, 'lab': 2485, 'findings': 1722, 'reports': 3635, 'death': 1113, 'type': 4635, 'cbc': 671, 'first': 1736, 'jan': 2392, 'interim': 2328, 'guidance': 1977, 'technical': 4408, 'updated': 4685, 'needed': 2932, 'call': 590, 'transparency': 4565, 'data': 1093, 'sharing': 3950, 'concerning': 872, 'releases': 3596, 'genetic': 1879, 'deadly': 1107, 'baby': 315, 'born': 481, 'pic': 3212, 'isnt': 2363, 'currently': 1065, 'spreading': 4177, 'sequences': 3910, 'ncov': 2925, 'allow': 127, 'countries': 988, 'develop': 1210, 'thailand': 4441, 'confirms': 890, 'traveler': 4572, 'hospitalized': 2127, 'form': 1793, 'according': 24, 'officials': 3026, 'good': 1928, 'hasnt': 2016, 'spread': 4174, 'seafood': 3853, 'market': 2720, 'major': 2677, 'transport': 4567, 'hub': 2151, 'closed': 794, 'brace': 501, 'nasty': 2914, 'killer': 2450, 'second': 3861, 'reported': 3630, 'wuhans': 4953, 'patient': 3156, 'likely': 2574, 'cases': 650, 'fear': 1670, 'caught': 664, 'newcoronavirus': 2946, 'dies': 1234, 'confirmed': 889, 'case': 649, 'japan': 2394, 'fears': 1675, 'three': 4479, 'airports': 109, 'screen': 3846, 'passengers': 3145, 'issues': 2374, 'warning': 4798, 'spreads': 4178, 'airline': 104, 'amid': 153, 'coronavirusoutbreak': 961, 'lax': 2523, 'raising': 3500, 'questions': 3477, 'infected': 2288, 'found': 1801, 'city': 769, 'since': 4028, 'wtf': 4949, 'sounds': 4127, 'many': 2707, 'initially': 2305, 'thought': 4467, 'contact': 910, 'world': 4921, 'stands': 4197, 'emerging': 1458, 'estimates': 1520, 'put': 3458, 'number': 2997, 'people': 3172, 'closely': 795, 'check': 725, 'least': 2539, 'suspected': 4349, 'shenzhen': 3957, 'shanghai': 3944, 'hundreds': 2164, 'also': 139, 'export': 1604, 'grossly': 1961, 'study': 4285, 'cnn': 811, 'already': 137, 'idea': 2185, 'costs': 974, 'newly': 2948, 'developed': 1211, 'test': 4433, 'alert': 116, 'korea': 2476, 'seems': 3878, 'pretty': 3355, 'bad': 320, 'worried': 4926, 'could': 983, 'mutate': 2896, 'even': 1541, 'potent': 3304, 'modelovirus': 2843, 'surge': 4330, 'jumps': 2429, 'cities': 765, 'infections': 2291, 'leap': 2535, 'latest': 2510, 'blog': 448, 'doesnt': 1312, 'include': 2248, 'factbox': 1630, 'post': 3297, 'know': 2466, 'published': 3441, 'trending': 4588, 'tourists': 4538, 'coming': 834, 'nepal': 2938, 'taking': 4387, 'epidemic': 1496, 'beijing': 382, 'breaks': 515, 'silence': 4016, 'deny': 1176, 'rumours': 3764, 'head': 2026, 'government': 1942, 'expert': 1591, 'team': 4405, 'transmission': 4562, 'state': 4206, 'york': 4977, 'times': 4498, 'zero': 4988, 'hedge': 2048, 'detected': 1204, 'well': 4843, 'viral': 4746, 'said': 3784, 'zhong': 4993, 'infectious': 2292, 'last': 2506, 'year': 4965, 'drinking': 1358, 'bottles': 488, 'south': 4131, 'think': 4461, 'reaches': 3524, 'hearing': 2041, 'might': 2800, 'next': 2954, 'plague': 3228, 'still': 4232, 'animal': 168, 'transmitted': 4564, 'national': 2916, 'hold': 2097, 'emergency': 1456, 'meeting': 2764, 'asia': 251, 'global': 1911, 'hysteria': 2175, 'dont': 1330, 'panic': 3123, 'yet': 4972, 'folks': 1764, 'jokes': 2417, 'old': 3032, 'means': 2746, 'friday': 1821, 'night': 2964, 'calls': 593, 'wrap': 4939, 'tonight': 4519, 'touch': 4531, 'daily': 1077, 'watch': 4808, 'dog': 1313, 'meat': 2752, 'trade': 4550, 'definitely': 1147, 'covering': 1004, 'severity': 3931, 'extends': 1614, 'reach': 3522, 'experts': 1592, 'across': 30, 'planet': 3236, 'person': 3185, 'humans': 2158, 'known': 2469, 'contagious': 913, 'freaking': 1815, 'really': 3540, 'dangerous': 1084, 'influenza': 2296, 'kill': 2448, 'anyways': 193, 'borders': 478, 'cant': 620, 'enter': 1483, 'making': 2684, 'sick': 4002, 'abc': 3, 'symptoms': 4374, 'treatment': 4584, 'prevent': 3356, 'pregnancy': 3332, 'getting': 1893, 'scared': 3817, 'medics': 2761, 'hazmat': 2024, 'suits': 4309, 'air': 100, 'plane': 3234, 'medical': 2756, 'workers': 4916, 'far': 1656, 'low': 2648, 'mortality': 2872, 'rate': 3513, 'science': 3833, 'struck': 4275, 'ahead': 96, 'period': 3180, 'group': 1963, 'ffs': 1699, 'youd': 4978, 'rather': 3515, 'going': 1922, 'change': 709, 'fees': 1690, 'want': 4787, 'leave': 2540, 'earlier': 1397, 'due': 1382, 'heres': 2064, 'need': 2931, 'video': 4737, 'explained': 1594, 'billy': 410, 'ray': 3519, 'ton': 4518, 'soup': 4128, 'banned': 334, 'read': 3529, 'several': 3928, 'articles': 245, 'exactly': 1560, 'brisbane': 530, 'man': 2692, 'tested': 4434, 'returning': 3689, 'cousin': 999, 'began': 375, 'music': 2893, 'tech': 4407, 'thanks': 4443, 'boston': 484, 'doctor': 1304, 'warns': 4800, 'everyone': 1550, 'organization': 3065, 'rise': 3719, 'expected': 1582, 'worse': 4931, 'xenophobia': 4955, 'rampant': 3505, 'symptom': 4373, 'make': 2679, 'every': 1547, 'slice': 4059, 'lime': 2578, 'citizens': 768, 'advised': 65, 'wear': 4822, 'particularly': 3137, 'killed': 2449, 'third': 4464, 'fourth': 1804, 'prepares': 3343, 'meet': 2763, 'monkey': 2861, 'takes': 4386, 'life': 2567, 'asks': 259, 'doctors': 1305, 'look': 2630, 'mounts': 2879, 'claims': 774, 'nations': 2919, 'start': 4201, 'screening': 3848, 'travelers': 4573, 'concerns': 873, 'prompt': 3405, 'sfo': 3933, 'top': 4523, 'twitter': 4633, 'wild': 4875, 'animals': 169, 'origin': 3067, 'nah': 2905, 'better': 397, 'forex': 1789, 'today': 4506, 'markets': 2722, 'trump': 4606, 'child': 739, 'tests': 4436, 'positive': 3293, 'cebu': 678, 'hernndez': 2065, 'austin': 289, 'nyt': 3005, 'australia': 290, 'flights': 1750, 'residents': 3653, 'leaving': 2542, 'yikes': 4975, 'doh': 1315, 'admitted': 57, 'hospital': 2126, 'continues': 926, 'dead': 1103, 'update': 4684, 'posted': 3298, 'weekend': 4833, 'trip': 4600, 'real': 3534, 'carry': 643, 'give': 1905, 'scientific': 3835, 'nature': 2922, 'cure': 1059, 'infect': 2287, 'tuesday': 4617, 'warned': 4797, 'cover': 1001, 'anyone': 190, 'puts': 3459, 'face': 1621, 'none': 2977, 'james': 2391, 'explain': 1593, 'whether': 4857, 'january': 2393, 'pathogen': 3155, 'high': 2073, 'risk': 3723, 'including': 2250, 'capital': 626, 'sixth': 4045, 'victim': 4733, 'holiday': 2100, 'travel': 4570, 'heightens': 2049, 'risks': 3724, 'almost': 132, 'occupied': 3011, 'herald': 2061, 'sun': 4312, 'reached': 3523, 'mostly': 2875, 'college': 824, 'hahaha': 1989, 'unless': 4672, 'public': 3439, 'help': 2054, 'theyre': 4455, 'talking': 4389, 'cats': 662, 'one': 3039, 'tho': 4465, 'ive': 2383, 'years': 4966, 'landed': 2496, 'soil': 4099, 'quickly': 3481, 'marketwatch': 2723, 'announces': 173, 'way': 4813, 'states': 4209, 'fast': 1660, 'felt': 1693, 'everything': 1552, 'hell': 2052, 'pack': 3108, 'drink': 1357, 'thing': 4459, 'washington': 4806, 'catch': 658, 'discovered': 1258, 'get': 1891, 'seeing': 3872, 'knowing': 2467, 'never': 2942, 'things': 4460, 'friends': 1824, 'returned': 3688, 'believe': 384, 'needs': 2933, 'declare': 1127, 'immediately': 2215, 'sorry': 4122, 'kinda': 2455, 'dow': 1341, 'falls': 1648, 'points': 3267, 'big': 403, 'decline': 1131, 'boeing': 464, 'republic': 3637, 'patented': 3152, 'arriving': 242, 'ohare': 3028, 'airport': 108, 'screened': 3847, 'american': 149, 'bro': 538, 'theres': 4453, 'threatening': 4476, 'ill': 2202, 'bring': 526, 'netflix': 2940, 'farm': 1657, 'hang': 2001, 'goats': 1918, 'else': 1448, 'gets': 1892, 'bout': 493, 'situation': 4042, 'summary': 4310, 'usa': 4696, 'possible': 3295, 'official': 3024, 'confirmation': 888, 'reportedly': 3631, 'shut': 3995, 'foreign': 1786, 'amazing': 143, 'seriously': 3918, 'subscribe': 4292, 'arrived': 240, 'seattle': 3859, 'int': 2318, 'screenings': 3849, 'chance': 706, 'buy': 582, 'stocks': 4235, 'jim': 2403, 'cramer': 1014, 'cnbc': 809, 'expand': 1576, 'welcome': 4842, 'america': 148, 'begun': 379, 'please': 3252, 'practice': 3312, 'personal': 3186, 'social': 4093, 'hygiene': 2172, 'model': 2839, 'iran': 2352, 'doomsday': 1332, 'looming': 2634, 'guys': 1984, 'california': 589, 'sickened': 4003, 'six': 4044, 'die': 1231, 'prime': 3367, 'minister': 2816, 'scott': 3841, 'morrison': 2871, 'evolving': 1558, 'fuck': 1832, 'mom': 2849, 'ago': 92, 'told': 4513, 'diagnosed': 1220, 'week': 4832, 'avoid': 303, 'multiple': 2890, 'stock': 4234, 'mad': 2665, 'money': 2854, 'uncertainty': 4650, 'ceo': 694, 'wife': 4872, 'asked': 257, 'limes': 2579, 'youre': 4982, 'trying': 4613, 'sickness': 4004, 'boys': 500, 'contract': 929, 'semi': 3890, 'staff': 4188, 'take': 4384, 'temperature': 4417, 'begins': 378, 'inchina': 2245, 'jamaica': 2390, 'resident': 3652, 'treated': 4582, 'press': 3352, 'become': 367, 'millions': 2810, 'remember': 3609, 'light': 2570, 'recent': 3549, 'note': 2986, 'viruses': 4754, 'bitches': 430, 'stay': 4216, 'away': 309, 'heard': 2040, 'yall': 4961, 'got': 1935, 'racist': 3490, 'scene': 3825, 'learning': 2538, 'driving': 1365, 'come': 831, 'arrives': 241, 'russia': 3772, 'india': 2265, 'others': 3074, 'boost': 475, 'border': 477, 'live': 2600, 'nine': 2969, 'horror': 2124, 'dying': 1395, 'story': 4249, 'shows': 3992, 'breaking': 513, 'connected': 895, 'international': 2330, 'kills': 2452, 'antidote': 183, 'apparently': 202, 'por': 3284, 'del': 1150, 'sir': 4036, 'came': 597, 'assume': 271, 'impact': 2223, 'montreal': 2864, 'hospitals': 2128, 'following': 1768, 'snohomish': 4087, 'county': 992, 'confused': 891, 'talk': 4388, 'company': 852, 'macau': 2664, 'hong': 2111, 'kong': 2473, 'economic': 1419, 'names': 2910, 'hangover': 2002, 'word': 4911, 'drunk': 1376, 'coronas': 954, 'party': 3141, 'covers': 1005, 'shame': 3941, 'province': 3432, 'care': 632, 'vigilant': 4742, 'special': 4145, 'region': 3581, 'coordination': 943, 'center': 688, 'move': 2881, 'quarantine': 3466, 'traveling': 4574, 'must': 2895, 'fail': 1636, 'assholes': 266, 'table': 4379, 'information': 2300, 'deaths': 1114, 'map': 2708, 'etc': 1523, 'airlines': 105, 'flight': 1749, 'examined': 1562, 'wont': 4909, 'iranians': 2354, 'north': 2982, 'koreans': 2478, 'raymond': 3520, 'item': 2379, 'broadcast': 539, 'toll': 4514, 'rises': 3721, 'spectator': 4150, 'index': 2264, 'cathay': 660, 'cabin': 587, 'crew': 1027, 'mainland': 2672, 'whats': 4855, 'difference': 1235, 'comes': 833, 'heading': 2029, 'ground': 1962, 'prepare': 3340, 'lunar': 2655, 'running': 3766, 'page': 3112, 'spy': 4182, 'double': 1337, 'mutation': 2899, 'reading': 3532, 'mind': 2812, 'worry': 4929, 'theyve': 4456, 'created': 1019, 'vaccine': 4711, 'patent': 3151, 'happens': 2006, 'long': 2627, 'end': 1467, 'healthcare': 2037, 'economist': 1422, 'lands': 2497, 'whatever': 4854, 'seem': 3876, 'grave': 1954, 'traveled': 4571, 'superspreader': 4316, 'brain': 505, 'surgery': 4331, 'looms': 2635, 'hongkong': 2112, 'hope': 2116, 'contracted': 930, 'killing': 2451, 'lead': 2526, 'serious': 3916, 'correction': 968, 'pandemic': 3118, 'mount': 2877, 'hits': 2087, 'increase': 2253, 'around': 232, 'hate': 2018, 'jinping': 2404, 'month': 2862, 'gotten': 1937, 'round': 3745, 'show': 3988, 'substance': 4293, 'close': 793, 'fish': 1737, 'climb': 785, 'key': 2442, 'begin': 376, 'checking': 727, 'goodbye': 1929, 'actually': 41, 'gonna': 1927, 'image': 2208, 'wwiii': 4954, 'climate': 784, 'changed': 710, 'monitor': 2857, 'precaution': 3323, 'npr': 2993, 'say': 3808, 'totally': 4530, 'control': 933, 'commerce': 839, 'players': 3247, 'ease': 1404, 'prices': 3365, 'disinfectant': 1275, 'linked': 2590, 'cancel': 610, 'time': 4495, 'yesterday': 4971, 'likelihood': 2573, 'monitoring': 2859, 'create': 1018, 'separate': 3906, 'arrival': 237, 'area': 223, 'precautionary': 3324, 'measure': 2750, 'great': 1955, 'shape': 3946, 'plan': 3233, 'egypt': 1438, 'highly': 2078, 'measures': 2751, 'stop': 4241, 'entering': 1485, 'olympic': 3034, 'review': 3702, 'paris': 3132, 'back': 316, 'shes': 3958, 'cooking': 940, 'secretary': 3864, 'country': 989, 'however': 2145, 'sell': 3885, 'protect': 3415, 'poses': 3292, 'leadership': 2529, 'reuters': 3694, 'avoiding': 304, 'important': 2234, 'ever': 1546, 'ramp': 3503, 'bats': 351, 'days': 1100, 'couple': 993, 'impeachment': 2228, 'jeff': 2398, 'wednesday': 4831, 'briefing': 522, 'contain': 914, 'deadass': 1104, 'friend': 1822, 'abt': 12, 'scaring': 3821, 'wash': 4804, 'hands': 2000, 'kids': 2447, 'helps': 2058, 'longer': 2628, 'sparking': 4140, 'dear': 1112, 'youve': 4984, 'given': 1906, 'diseases': 1270, 'canada': 606, 'threat': 4473, 'particular': 3136, 'highs': 2079, 'slows': 4067, 'shares': 3949, 'rose': 3742, 'response': 3670, 'struggling': 4279, 'bernie': 392, 'harry': 2012, 'returns': 3690, 'dealing': 1109, 'sharply': 3952, 'mid': 2796, 'tackle': 4380, 'heathrow': 2045, 'describe': 1187, 'delete': 1156, 'previous': 3362, 'tweet': 4628, 'thread': 4472, 'stating': 4210, 'picked': 3214, 'ghana': 1894, 'careful': 633, 'shit': 3967, 'would': 4936, 'kenya': 2439, 'steps': 4227, 'surveillance': 4340, 'entry': 1489, 'acting': 32, 'brings': 528, 'hear': 2039, 'efforts': 1437, 'beginning': 377, 'added': 44, 'hubei': 2152, 'total': 4529, 'overseas': 3097, 'closes': 797, 'forces': 1779, 'plans': 3239, 'bringing': 527, 'chin': 743, 'conducted': 880, 'employers': 1464, 'holy': 2102, 'less': 2552, 'day': 1099, 'wait': 4776, 'anything': 191, 'watching': 4810, 'together': 4510, 'smell': 4073, 'advise': 64, 'suspects': 4350, 'simply': 4023, 'two': 4634, 'tips': 4502, 'technology': 4409, 'aint': 99, 'play': 3245, 'inc': 2244, 'smh': 4074, 'developing': 1212, 'article': 244, 'combat': 828, 'henry': 2060, 'bcs': 359, 'provincial': 3434, 'officer': 3021, 'join': 2412, 'todays': 4507, 'weaker': 4816, 'share': 3947, 'link': 2589, 'morning': 2870, 'idk': 2193, 'interested': 2326, 'informed': 2302, 'rapidly': 3510, 'food': 1770, 'poisoning': 3269, 'lots': 2645, 'order': 3059, 'spreaders': 4176, 'maybe': 2740, 'theyll': 4454, 'system': 4376, 'five': 1739, 'increases': 2255, 'affected': 74, 'afp': 77, 'probably': 3381, 'named': 2909, 'calling': 592, 'fire': 1731, 'gun': 1981, 'girl': 1903, 'choose': 754, 'knows': 2470, 'mean': 2744, 'treat': 4581, 'conference': 881, 'alarm': 113, 'sparked': 4139, 'crisis': 1029, 'opening': 3049, 'aliexpress': 121, 'package': 3109, 'hit': 2086, 'belt': 388, 'fresh': 1820, 'free': 1816, 'cost': 972, 'chilling': 742, 'reveals': 3698, 'scenes': 3826, 'bug': 557, 'turns': 4626, 'ghost': 1896, 'gold': 1923, 'turn': 4622, 'home': 2103, 'computer': 865, 'yep': 4969, 'isolated': 2365, 'someone': 4111, 'proper': 3409, 'work': 4913, 'tomorrow': 4517, 'overwhelmed': 3100, 'warn': 4796, 'mutating': 2898, 'see': 3871, 'tweets': 4631, 'contaminated': 919, 'much': 2888, 'rising': 3722, 'extraordinary': 1616, 'matter': 2737, 'mask': 2725, 'black': 435, 'white': 4863, 'let': 2555, 'communist': 848, 'cut': 1068, 'transportation': 4568, 'despite': 1195, 'professor': 3393, 'spanish': 4136, 'words': 4912, 'full': 1839, 'shuts': 3997, 'indian': 2266, 'students': 4282, 'anxious': 187, 'committee': 843, 'nvax': 3002, 'potential': 3305, 'gap': 1861, 'plays': 3249, 'shutting': 3999, 'critics': 1033, 'living': 2604, 'nightmare': 2965, 'million': 2809, 'train': 4557, 'stations': 4212, 'bus': 572, 'okay': 3031, 'similar': 4020, 'clearly': 782, 'wrong': 4946, 'effect': 1432, 'name': 2908, 'demand': 1167, 'beer': 372, 'lock': 2616, 'halt': 1993, 'feared': 1671, 'widespread': 4871, 'officially': 3025, 'fatalities': 1663, 'drastic': 1352, 'finding': 1721, 'originated': 3071, 'scares': 3819, 'slowly': 4066, 'surely': 4328, 'concern': 870, 'limit': 2580, 'population': 3283, 'billion': 407, 'nice': 2958, 'scaremongering': 3818, 'companies': 851, 'restricting': 3680, 'started': 4202, 'wildlife': 4877, 'taken': 4385, 'underway': 4658, 'right': 3715, 'early': 1398, 'gains': 1854, 'contained': 915, 'count': 985, 'doubles': 1338, 'overnight': 3096, 'working': 4917, 'became': 366, 'mexico': 2789, 'visiting': 4760, 'quarantined': 3467, 'damn': 1080, 'movie': 2883, 'weeks': 4835, 'starting': 4203, 'decide': 1123, 'thursday': 4486, 'postpones': 3302, 'decision': 1126, 'declaring': 1130, 'pork': 3285, 'pigs': 3220, 'wth': 4950, 'stunt': 4288, 'goes': 1921, 'creating': 1021, 'promote': 3404, 'task': 4398, 'info': 2297, 'originating': 3072, 'general': 1877, 'otherwise': 3075, 'suspends': 4354, 'spre': 4173, 'rapid': 3509, 'warnings': 4799, 'seeks': 3875, 'suspension': 4355, 'heart': 2042, 'ready': 3533, 'meanwhile': 2748, 'weve': 4853, 'prepared': 3341, 'escalate': 1509, 'safely': 3782, 'handle': 1998, 'phone': 3206, 'connection': 897, 'little': 2598, 'went': 4846, 'fly': 1759, 'berlin': 391, 'german': 1888, 'common': 846, 'term': 4424, 'seven': 3926, 'stronger': 4273, 'actions': 34, 'downplaying': 1343, 'reporting': 3634, 'huh': 2155, 'inf': 2283, 'pakistan': 3116, 'walk': 4780, 'box': 496, 'mouth': 2880, 'stick': 4230, 'quarantines': 3468, 'transit': 4561, 'copy': 948, 'bar': 337, 'gotta': 1936, 'ingat': 2303, 'daw': 1098, 'ngl': 2955, 'suspend': 4351, 'detect': 1203, 'moscow': 2874, 'worrisome': 4928, 'pollution': 3277, 'taiwan': 4383, 'diseas': 1268, 'sealed': 3854, 'isolates': 2366, 'entered': 1484, 'private': 3376, 'message': 2781, 'use': 4698, 'robot': 3733, 'certain': 695, 'place': 3225, 'ppl': 3311, 'pick': 3213, 'carefully': 634, 'fearmongering': 1674, 'called': 591, 'clean': 778, 'streets': 4262, 'interview': 2332, 'guangzhou': 1972, 'southern': 4133, 'student': 4281, 'lol': 2624, 'brexit': 520, 'australian': 291, 'open': 3047, 'wet': 4852, 'photos': 3209, 'shops': 3978, 'hot': 2132, 'spring': 4179, 'add': 43, 'tourism': 4536, 'tour': 4535, 'budget': 555, 'doubling': 1339, 'wouldnt': 4937, 'surprise': 4337, 'current': 1064, 'shot': 3984, 'best': 394, 'guess': 1975, 'send': 3894, 'location': 2614, 'imposes': 2240, 'terrified': 4427, 'truth': 4609, 'podcast': 3264, 'wanna': 4786, 'house': 2141, 'cancelled': 614, 'shutdown': 3996, 'tries': 4595, 'follow': 1765, 'happened': 2004, 'pop': 3280, 'song': 4116, 'gave': 1868, 'snakes': 4081, 'legit': 2550, 'headache': 2027, 'past': 3148, 'happy': 2007, 'boy': 498, 'using': 4704, 'issued': 2373, 'november': 2991, 'patents': 3153, 'event': 1543, 'aids': 98, 'horrific': 2123, 'disturbing': 1294, 'footage': 1773, 'emerges': 1457, 'visual': 4764, 'guide': 1978, 'sure': 4327, 'purposely': 3453, 'able': 7, 'crowded': 1038, 'front': 1829, 'lines': 2586, 'recorded': 3558, 'find': 1720, 'woke': 4903, 'forexlive': 1790, 'completely': 863, 'asian': 252, 'department': 1177, 'investigates': 2339, 'consumption': 908, 'controlled': 934, 'surprised': 4338, 'eating': 1415, 'usual': 4705, 'suspect': 4348, 'ser': 3912, 'interesting': 2327, 'development': 1213, 'showing': 3990, 'regions': 3583, 'lmao': 2605, 'understand': 4656, 'works': 4919, 'antibiotics': 182, 'leading': 2530, 'original': 3068, 'passes': 3146, 'break': 510, 'waiting': 4777, 'queue': 3478, 'outside': 3089, 'airborne': 101, 'yung': 4986, 'putting': 3460, 'lockdown': 2617, 'considered': 901, 'epicenter': 1494, 'outbrea': 3079, 'wearing': 4823, 'purpose': 3452, 'updates': 4686, 'flee': 1745, 'locked': 2619, 'visit': 4758, 'gross': 1960, 'blame': 436, 'restaurants': 3677, 'warming': 4795, 'strains': 4252, 'activated': 35, 'beg': 374, 'inform': 2299, 'followers': 1767, 'researchers': 3649, 'tipping': 4501, 'point': 3266, 'beyond': 399, 'cars': 645, 'noodles': 2979, 'travellers': 4576, 'snake': 4080, 'nigerians': 2961, 'nigerian': 2960, 'tribune': 4592, 'try': 4611, 'drag': 1348, 'anxiety': 186, 'saw': 3807, 'app': 200, 'blamed': 437, 'pics': 3216, 'emerge': 1454, 'star': 4199, 'carrying': 644, 'red': 3566, 'side': 4005, 'grip': 1958, 'investors': 2345, 'observation': 3008, 'customs': 1067, 'mexican': 2788, 'inside': 2310, 'strategy': 4259, 'seen': 3879, 'pandemics': 3119, 'london': 2626, 'reveal': 3695, 'non': 2976, 'specific': 4148, 'clear': 780, 'peter': 3192, 'offer': 3017, 'kit': 2461, 'blown': 455, 'community': 850, 'owned': 3102, 'centers': 689, 'sta': 4186, 'lagos': 2493, 'govt': 1945, 'alerts': 118, 'timeline': 4496, 'irish': 2358, 'town': 4542, 'whos': 4866, 'statement': 4208, 'released': 3595, 'halts': 1994, 'fight': 1704, 'khabarhub': 2444, 'growing': 1966, 'course': 996, 'pray': 3318, 'jeremy': 2399, 'selling': 3887, 'eat': 1412, 'huanggang': 2149, 'indoor': 2276, 'grips': 1959, 'guangdong': 1971, 'local': 2611, 'overcoronavirus': 3094, 'sold': 4100, 'yes': 4970, 'terrible': 4426, 'brazil': 509, 'ofcoronavirus': 3015, 'expanded': 1577, 'restrictions': 3681, 'affect': 73, 'becomes': 368, 'talks': 4390, 'remind': 3610, 'ass': 260, 'caution': 669, 'cholera': 752, 'bubonic': 553, 'prep': 3337, 'codx': 816, 'diagnostics': 1223, 'platform': 3244, 'didnt': 1230, 'victims': 4734, 'pre': 3322, 'existing': 1573, 'conditions': 879, 'beware': 398, 'washing': 4805, 'cannot': 619, 'anger': 164, 'orders': 3062, 'nigeria': 2959, 'huawei': 2150, 'grows': 1968, 'bans': 336, 'woman': 4904, 'france': 1809, 'online': 3042, 'march': 2715, 'late': 2507, 'april': 218, 'distract': 1289, 'duh': 1383, 'appetite': 209, 'locks': 2621, 'cancels': 616, 'threatens': 4477, 'growth': 1969, 'macao': 2663, 'philippines': 3204, 'stops': 4244, 'appearance': 205, 'accident': 22, 'stuck': 4280, 'breakfast': 512, 'singapore': 4030, 'film': 1713, 'contagion': 912, 'channel': 713, 'japanese': 2395, 'shop': 3975, 'customers': 1066, 'events': 1544, 'effort': 1436, 'canadas': 607, 'level': 2560, 'cancellation': 612, 'celebrations': 680, 'used': 4699, 'vaccines': 4712, 'decade': 1120, 'biggest': 405, 'load': 2608, 'nonsense': 2978, 'nhs': 2957, 'accelerating': 18, 'nnvc': 2973, 'affects': 76, 'body': 463, 'texas': 4437, 'passenger': 3144, 'sent': 3902, 'dubai': 1379, 'bitcoin': 431, 'profit': 3394, 'losses': 2642, 'limited': 2582, 'investigating': 2340, 'ministry': 2818, 'grow': 1965, 'fxstreet': 1851, 'within': 4900, 'vietnam': 4739, 'protection': 3418, 'gear': 1872, 'alongside': 135, 'ones': 3040, 'oil': 3030, 'traders': 4551, 'threats': 4478, 'posed': 3291, 'scotland': 3840, 'reporter': 3632, 'four': 1803, 'mentioned': 2777, 'filipinos': 1710, 'guardian': 1974, 'build': 558, 'testing': 4435, 'february': 1679, 'unprecedented': 4677, 'worrying': 4930, 'virulent': 4752, 'healthy': 2038, 'save': 3805, 'lives': 2602, 'failed': 1637, 'nurse': 3000, 'saudi': 3804, 'ministers': 2817, 'peop': 3170, 'short': 3980, 'btc': 549, 'northern': 2983, 'ireland': 2357, 'scientist': 3836, 'wake': 4778, 'threaten': 4474, 'economy': 1424, 'canadians': 609, 'futures': 1850, 'poised': 3268, 'gain': 1853, 'sadly': 3780, 'game': 1857, 'easily': 1407, 'previously': 3363, 'factory': 1633, 'scandal': 3815, 'globe': 1914, 'decides': 1125, 'rumor': 3761, 'dna': 1298, 'seek': 3873, 'god': 1919, 'bid': 402, 'disrupted': 1282, 'punishment': 3449, 'uighur': 4642, 'muslims': 2894, 'gov': 1938, 'laboratory': 2487, 'done': 1329, 'summer': 4311, 'fell': 1691, 'idiot': 2190, 'decided': 1124, 'kung': 2482, 'reminds': 3612, 'drill': 1356, 'giant': 1897, 'forced': 1778, 'postpone': 3300, 'upcoming': 4683, 'safe': 3781, 'cas': 648, 'contamination': 920, 'signal': 4012, 'download': 1342, 'dedicated': 1135, 'vancouver': 4718, 'toronto': 4527, 'tools': 4522, 'fan': 1652, 'vacation': 4708, 'prevention': 3359, 'centre': 692, 'located': 2613, 'mother': 2876, 'angry': 166, 'shake': 3937, 'lot': 2644, 'stopped': 4242, 'shock': 3970, 'videos': 4738, 'collapsing': 821, 'teacher': 4403, 'terror': 4430, 'edge': 1425, 'coast': 813, 'output': 3087, 'birthday': 427, 'delayed': 1152, 'plastic': 3243, 'tube': 4616, 'stuff': 4287, 'bit': 428, 'funny': 1847, 'vaccination': 4710, 'counter': 986, 'cough': 978, 'simulation': 4026, 'months': 2863, 'signs': 4015, 'written': 4945, 'drip': 1359, 'racism': 3489, 'evidence': 1554, 'admit': 55, 'somewhat': 4113, 'exercise': 1571, 'increased': 2254, 'ban': 328, 'widens': 4870, 'simple': 4022, 'conspiracy': 903, 'happening': 2005, 'arabia': 220, 'hiv': 2089, 'run': 3765, 'monitored': 2858, 'feds': 1684, 'alibaba': 120, 'coffee': 817, 'prefer': 3331, 'outbreaks': 3081, 'provide': 3429, 'colleague': 822, 'fro': 1826, 'mail': 2670, 'latestupdates': 2511, 'scottish': 3842, 'indonesia': 2273, 'line': 2584, 'forget': 1791, 'design': 1192, 'housing': 2143, 'stories': 4247, 'droplets': 1370, 'coughing': 980, 'que': 3471, 'concert': 874, 'thank': 4442, 'ima': 2207, 'soon': 4119, 'died': 1232, 'forever': 1788, 'wish': 4895, 'evil': 1555, 'suddenly': 4300, 'disappear': 1250, 'ebola': 1417, 'americans': 150, 'cont': 909, 'fifth': 1702, 'rushed': 3771, 'record': 3557, 'launch': 2517, 'africa': 79, 'dem': 1166, 'dey': 1217, 'business': 577, 'helped': 2055, 'owners': 3104, 'bill': 406, 'melinda': 2768, 'gates': 1864, 'french': 1818, 'foxnews': 1807, 'bruh': 547, 'documentary': 1307, 'pets': 3195, 'showed': 3989, 'coul': 982, 'dan': 1081, 'although': 141, 'scenarios': 3824, 'locking': 2620, 'italian': 2377, 'wall': 4782, 'street': 4261, 'wisconsin': 4893, 'cina': 763, 'con': 867, 'arent': 225, 'spraying': 4172, 'mild': 2804, 'large': 2500, 'playing': 3248, 'scare': 3816, 'compare': 854, 'curious': 1062, 'canadian': 608, 'preparing': 3344, 'date': 1094, 'literally': 2597, 'dude': 1381, 'paul': 3158, 'locusts': 2623, 'mapping': 2710, 'counts': 991, 'sharp': 3951, 'countrys': 990, 'john': 2409, 'excellent': 1567, 'malaysia': 2687, 'near': 2926, 'adds': 50, 'editorial': 1428, 'besides': 393, 'sydney': 4369, 'bushfire': 575, 'smoke': 4077, 'aus': 286, 'recommendations': 3555, 'fucking': 1835, 'anti': 181, 'cold': 819, 'tells': 4416, 'journalists': 2423, 'graphic': 1953, 'joke': 2416, 'entire': 1487, 'wiped': 4888, 'swear': 4360, 'sitting': 4041, 'hes': 2067, 'google': 1932, 'maps': 2711, 'station': 4211, 'justice': 2432, 'quarantining': 3469, 'illegal': 2203, 'university': 4670, 'eats': 1416, 'midst': 2799, 'sending': 3895, 'rat': 3512, 'rats': 3516, 'laughs': 2516, 'surrounding': 4339, 'everyones': 1551, 'hopefully': 2117, 'sanitizers': 3798, 'catching': 659, 'fool': 1771, 'originate': 3070, 'matters': 2738, 'different': 1237, 'voice': 4767, 'mirror': 2823, 'insane': 2308, 'financial': 1719, 'sparks': 4141, 'rest': 3674, 'worst': 4934, 'newspaper': 2953, 'random': 3507, 'comments': 838, 'suck': 4297, 'investigation': 2341, 'nsw': 2994, 'engineered': 1475, 'planned': 3237, 'houston': 2144, 'vid': 4736, 'often': 3027, 'raw': 3518, 'wonder': 4907, 'maam': 2662, 'ate': 275, 'recently': 3550, 'stupid': 4289, 'origins': 3073, 'dept': 1183, 'emails': 1451, 'revealed': 3696, 'release': 3594, 'journal': 2421, 'hotel': 2134, 'refuse': 3573, 'originally': 3069, 'claimed': 772, 'wasnt': 4807, 'played': 3246, 'iphone': 2350, 'theory': 4450, 'paper': 3126, 'fascinating': 1658, 'piece': 3219, 'governments': 1943, 'handling': 1999, 'ending': 1469, 'lyme': 2659, 'attempt': 280, 'stem': 4223, 'zombie': 4995, 'apocalypse': 198, 'frightening': 1825, 'foundation': 1802, 'funded': 1843, 'nothing': 2988, 'turning': 4625, 'room': 3741, 'investigate': 2338, 'congress': 894, 'fights': 1706, 'described': 1188, 'agencies': 85, 'preparations': 3339, 'deal': 1108, 'longest': 2629, 'taal': 4378, 'eruption': 1508, 'series': 3914, 'earthquakes': 1402, 'clock': 791, 'presents': 3348, 'bronchitis': 542, 'slow': 4063, 'mass': 2728, 'marketing': 2721, 'managers': 2696, 'heads': 2033, 'valley': 4715, 'detailed': 1200, 'breakdown': 511, 'dia': 1218, 'highest': 2075, 'took': 4520, 'wit': 4896, 'walking': 4781, 'tower': 4541, 'diario': 1225, 'season': 3857, 'trial': 4590, 'speaks': 4144, 'extra': 1615, 'nhk': 2956, 'precautions': 3325, 'healt': 2035, 'offers': 3019, 'traditional': 4553, 'medicine': 2759, 'eight': 1439, 'fact': 1629, 'campus': 605, 'safety': 3783, 'switch': 4367, 'modelo': 2841, 'los': 2638, 'tokyo': 4512, 'spurs': 4180, 'military': 2807, 'personnel': 3188, 'coughs': 981, 'sneezes': 4085, 'largely': 2501, 'faster': 1661, 'climbs': 787, 'pet': 3191, 'price': 3364, 'yellow': 4967, 'metal': 2784, 'moves': 2882, 'switched': 4368, 'worldwide': 4925, 'risen': 3720, 'commission': 840, 'federal': 1683, 'court': 997, 'secretly': 3866, 'ordering': 3061, 'sites': 4040, 'throughout': 4481, 'excuse': 1570, 'towards': 4540, 'building': 559, 'bed': 370, 'crazy': 1017, 'biosafety': 418, 'kerala': 2441, 'trapped': 4569, 'wuh': 4951, 'tracking': 4548, 'infects': 2293, 'received': 3548, 'luxury': 2657, 'brands': 507, 'jersey': 2400, 'exposure': 1609, 'cbs': 672, 'women': 4905, 'race': 3486, 'firms': 1735, 'estimate': 1518, 'nasdaq': 2913, 'eye': 1619, 'earnings': 1399, 'gild': 1899, 'omg': 3037, 'tennessee': 4422, 'weak': 4815, 'immune': 2219, 'feeling': 1687, 'tht': 4485, 'estate': 1517, 'notice': 2989, 'revealing': 3697, 'isolation': 2368, 'thousands': 4470, 'evening': 1542, 'unconfirmed': 4652, 'sees': 3880, 'reaching': 3525, 'pls': 3257, 'cautious': 670, 'regardless': 3577, 'expands': 1579, 'lockdowns': 2618, 'plus': 3260, 'crash': 1016, 'spr': 4170, 'discussion': 1267, 'men': 2774, 'anymore': 189, 'embassy': 1452, 'finds': 1723, 'cheated': 724, 'checks': 728, 'steals': 4221, 'headlines': 2031, 'brought': 545, 'dozens': 1347, 'mike': 2801, 'esp': 1513, 'southeast': 4132, 'places': 3227, 'club': 804, 'lost': 2643, 'cells': 682, 'spikes': 4160, 'nobody': 2974, 'roads': 3731, 'vehicles': 4724, 'russian': 3773, 'treating': 4583, 'proof': 3407, 'sing': 4029, 'humanity': 2157, 'increasing': 2256, 'value': 4716, 'burning': 571, 'half': 1992, 'supply': 4320, 'negative': 2934, 'ended': 1468, 'flat': 1742, 'developments': 1214, 'disneyland': 1279, 'park': 3133, 'preventing': 3358, 'possibility': 3294, 'unnecessary': 4675, 'delay': 1151, 'neo': 2937, 'hitting': 2088, 'shores': 3979, 'determine': 1206, 'readiness': 3531, 'leaves': 2541, 'lying': 2658, 'deserted': 1190, 'sneezed': 4084, 'wired': 4891, 'whose': 4867, 'tryin': 4612, 'imposed': 2239, 'survived': 4344, 'teachers': 4404, 'zealand': 4987, 'australians': 292, 'accelerate': 16, 'industry': 2281, 'escaped': 1511, 'website': 4828, 'bunch': 567, 'british': 534, 'resort': 3660, 'saturday': 3803, 'lethal': 2556, 'headquarters': 2032, 'tired': 4503, 'self': 3883, 'shared': 3948, 'small': 4069, 'chaos': 714, 'strikes': 4271, 'starts': 4204, 'compares': 856, 'retweetnews': 3692, 'reduce': 3567, 'disney': 1278, 'announced': 171, 'temporary': 4419, 'closure': 799, 'figure': 1707, 'higher': 2074, 'list': 2593, 'suspended': 4352, 'retweet': 3691, 'moh': 2848, 'sound': 4124, 'bloody': 450, 'love': 2646, 'mounting': 2878, 'central': 690, 'appear': 204, 'addressed': 49, 'beers': 373, 'land': 2495, 'probable': 3380, 'rtr': 3755, 'governor': 1944, 'compared': 855, 'attention': 284, 'instead': 2315, 'universities': 4669, 'among': 155, 'masses': 2730, 'kingdom': 2459, 'dose': 1336, 'masked': 2726, 'germs': 1890, 'guidelines': 1979, 'inuk': 2336, 'concerned': 871, 'lack': 2490, 'basic': 344, 'implications': 2231, 'raises': 3499, 'epicentre': 1495, 'suffer': 4301, 'denies': 1173, 'learn': 2536, 'english': 1478, 'unable': 4648, 'bragged': 504, 'lower': 2649, 'speed': 4152, 'suffering': 4302, 'suspe': 4347, 'triggers': 4598, 'debate': 1115, 'magazine': 2667, 'ways': 4814, 'nationalnews': 2917, 'spent': 4158, 'crucial': 1041, 'arresting': 235, 'ang': 162, 'especially': 1514, 'issue': 2372, 'super': 4314, 'enjoy': 1480, 'volcano': 4769, 'locust': 2622, 'west': 4848, 'plagues': 3230, 'roll': 3737, 'favorite': 1668, 'rumors': 3762, 'chill': 741, 'ongoing': 3041, 'organisation': 3064, 'donation': 1327, 'cross': 1034, 'expects': 1584, 'chongqing': 753, 'mcdonalds': 2742, 'amidst': 154, 'petition': 3193, 'rename': 3618, 'coronaviruses': 958, 'stricter': 4269, 'targeted': 4393, 'curb': 1058, 'rebounds': 3545, 'aussie': 287, 'bet': 395, 'yen': 4968, 'everybody': 1548, 'fighting': 1705, 'yang': 4962, 'flew': 1747, 'packed': 3111, 'rally': 3502, 'predicted': 3327, 'ran': 3506, 'feels': 1689, 'bearish': 362, 'mood': 2865, 'worries': 4927, 'force': 1777, 'equipped': 1504, 'treats': 4586, 'aware': 307, 'road': 3730, 'yeah': 4964, 'corpses': 966, 'left': 2547, 'floor': 1754, 'lessons': 2554, 'learned': 2537, 'energy': 1472, 'zone': 4997, 'battles': 353, 'jazeera': 2397, 'bio': 413, 'weapon': 4818, 'granted': 1951, 'thr': 4471, 'cancellations': 613, 'exclusive': 1569, 'moment': 2850, 'programs': 3397, 'stepped': 4226, 'soar': 4089, 'hey': 2068, 'available': 299, 'charts': 721, 'infecting': 2289, 'closing': 798, 'weekly': 4834, 'style': 4291, 'scholars': 3830, 'ontario': 3043, 'causes': 667, 'appeared': 206, 'sneeze': 4083, 'lists': 2596, 'alerted': 117, 'solution': 4104, 'sensitive': 3901, 'images': 2209, 'sets': 3924, 'youtube': 4983, 'fine': 1724, 'till': 4493, 'contracts': 932, 'blames': 438, 'complex': 864, 'easier': 1406, 'finland': 1728, 'suspicion': 4356, 'results': 3684, 'hour': 2139, 'quite': 3484, 'chicago': 734, 'epic': 1493, 'levels': 2561, 'glad': 1909, 'thousand': 4469, 'midnight': 2798, 'lady': 2492, 'hand': 1997, 'keeping': 2437, 'steve': 4228, 'commentary': 837, 'helping': 2057, 'equities': 1505, 'leads': 2531, 'builds': 561, 'block': 443, 'touched': 4532, 'standard': 4195, 'seasonal': 3858, 'everywhere': 1553, 'manufactured': 2703, 'destroy': 1196, 'gives': 1907, 'sky': 4051, 'remain': 3604, 'illinois': 2204, 'rush': 3770, 'hav': 2019, 'asking': 258, 'schools': 3832, 'act': 31, 'hosted': 2130, 'simulated': 4025, 'outb': 3076, 'deploys': 1181, 'assist': 267, 'hours': 2140, 'shift': 3959, 'approaches': 213, 'memes': 2773, 'fun': 1841, 'iranian': 2353, 'soldiers': 4101, 'telling': 4415, 'duty': 1394, 'regarding': 3576, 'details': 1201, 'experiencing': 1588, 'responsible': 3673, 'coincidence': 818, 'future': 1849, 'ugh': 4640, 'pace': 3106, 'built': 562, 'hire': 2084, 'camera': 598, 'peoples': 3173, 'rights': 3716, 'address': 48, 'hard': 2008, 'keeps': 2438, 'prince': 3368, 'inovio': 2307, 'coverage': 1002, 'clinical': 789, 'behind': 381, 'looking': 2632, 'partial': 3135, 'mumbai': 2892, 'ward': 4792, 'set': 3923, 'drops': 1373, 'freaked': 1814, 'flying': 1760, 'estimation': 1521, 'epidemiological': 1498, 'predictions': 3329, 'photo': 3208, 'young': 4980, 'liked': 2572, 'visitors': 4762, 'incubation': 2259, 'depth': 1184, 'respirator': 3664, 'port': 3287, 'services': 3920, 'gon': 1925, 'lie': 2564, 'thinking': 4462, 'celebrate': 679, 'phase': 3201, 'addition': 46, 'question': 3475, 'enough': 1481, 'resources': 3662, 'crown': 1040, 'dropping': 1372, 'detained': 1202, 'boxes': 497, 'europe': 1527, 'somebody': 4109, 'plain': 3231, 'bye': 585, 'protecting': 3417, 'crossing': 1036, 'britains': 533, 'facemasks': 1623, 'beat': 363, 'pirbright': 3222, 'institute': 2316, 'spike': 4159, 'sales': 3788, 'falling': 1646, 'jump': 2426, 'species': 4147, 'jesus': 2401, 'enforce': 1473, 'greater': 1956, 'stan': 4193, 'mine': 2813, 'write': 4942, 'wanted': 4788, 'bleach': 440, 'pure': 3451, 'dream': 1354, 'shoot': 3973, 'fatal': 1662, 'briton': 535, 'movies': 2884, 'mention': 2776, 'shown': 3991, 'rail': 3496, 'rip': 3718, 'expecting': 1583, 'capable': 623, 'afraid': 78, 'metro': 2787, 'discuss': 1263, 'emerged': 1455, 'fucked': 1833, 'manufacturer': 2704, 'coronavir': 955, 'lancet': 2494, 'wow': 4938, 'travelling': 4577, 'everyday': 1549, 'goverment': 1940, 'bts': 550, 'awesome': 310, 'calm': 594, 'reason': 3542, 'approach': 212, 'boutta': 494, 'class': 776, 'honestly': 2109, 'bull': 563, 'president': 3349, 'office': 3020, 'throw': 4482, 'circulating': 764, 'popping': 3281, 'travelled': 4575, 'basically': 345, 'fall': 1645, 'faculty': 1635, 'imperial': 2229, 'havent': 2021, 'feed': 1685, 'rthk': 3754, 'virologist': 4748, 'msm': 2887, 'announce': 170, 'cured': 1060, 'discharged': 1256, 'discover': 1257, 'dish': 1273, 'version': 4730, 'concept': 869, 'support': 4321, 'pay': 3160, 'respect': 3663, 'huge': 2154, 'dat': 1092, 'allah': 123, 'confusing': 892, 'stated': 4207, 'field': 1701, 'germany': 1889, 'activity': 39, 'declared': 1128, 'ravaged': 3517, 'eyes': 1620, 'medic': 2755, 'nationals': 2918, 'headline': 2030, 'lord': 2637, 'wildfire': 4876, 'visited': 4759, 'receive': 3547, 'email': 1450, 'wan': 4785, 'preventive': 3360, 'advice': 63, 'traffic': 4554, 'relation': 3590, 'outlets': 3085, 'exceed': 1564, 'limits': 2583, 'sister': 4037, 'believed': 385, 'latin': 2512, 'caribbean': 636, 'political': 3273, 'pain': 3114, 'dare': 1087, 'tag': 4382, 'trust': 4608, 'containing': 916, 'european': 1528, 'posts': 3303, 'losing': 2640, 'thoughts': 4468, 'sector': 3867, 'mortgage': 2873, 'epidemics': 1497, 'nbc': 2924, 'stream': 4260, 'coping': 945, 'tourist': 4537, 'mobile': 2837, 'foo': 1769, 'predict': 3326, 'dogs': 1314, 'hello': 2053, 'hotline': 2136, 'analysis': 159, 'genomes': 1884, 'niggas': 2963, 'director': 1245, 'foun': 1800, 'stress': 4265, 'cuz': 1072, 'ccp': 673, 'alarming': 114, 'donald': 1322, 'surgical': 4333, 'gove': 1939, 'humor': 2161, 'stricken': 4267, 'dom': 1318, 'guy': 1983, 'mfs': 2790, 'meant': 2747, 'african': 80, 'stressing': 4266, 'focus': 1761, 'absolutely': 11, 'indicates': 2270, 'alone': 133, 'researcher': 3648, 'predicts': 3330, 'ten': 4420, 'bless': 441, 'text': 4438, 'prof': 3390, 'bottom': 489, 'mil': 2802, 'wor': 4910, 'vitamin': 4766, 'frequently': 1819, 'senator': 3893, 'tom': 4516, 'cotton': 975, 'consider': 900, 'europes': 1530, 'knew': 2463, 'boss': 482, 'features': 1676, 'bitch': 429, 'throwing': 4483, 'goodness': 1930, 'planning': 3238, 'sunday': 4313, 'flown': 1757, 'husband': 2171, 'wants': 4790, 'users': 4702, 'comparing': 857, 'tweeted': 4629, 'finally': 1717, 'exposed': 1606, 'art': 243, 'cctv': 674, 'network': 2941, 'either': 1441, 'analyst': 160, 'upon': 4688, 'finish': 1726, 'registered': 3584, 'nearly': 2927, 'deserve': 1191, 'chan': 705, 'opened': 3048, 'finna': 1729, 'step': 4224, 'foot': 1772, 'amp': 158, 'decades': 1121, 'profits': 3395, 'identify': 2189, 'verify': 4729, 'parts': 3140, 'youll': 4979, 'push': 3454, 'swift': 4363, 'teams': 4406, 'solid': 4102, 'fill': 1711, 'deadliest': 1106, 'australias': 293, 'victoria': 4735, 'germ': 1887, 'airplane': 106, 'drop': 1368, 'brother': 543, 'opinion': 3055, 'process': 3384, 'carolina': 639, 'miss': 2826, 'wipe': 4887, 'tolls': 4515, 'track': 4546, 'assessment': 264, 'nejm': 2936, 'melbourne': 2767, 'newpaper': 2949, 'fake': 1644, 'carriers': 642, 'nervous': 2939, 'part': 3134, 'diagnosis': 1221, 'kind': 2454, 'induced': 2278, 'tbh': 4401, 'selloff': 3888, 'beach': 360, 'horizon': 2121, 'refuses': 3575, 'explainer': 1595, 'readies': 3530, 'extreme': 1617, 'immediate': 2214, 'reminder': 3611, 'johns': 2410, 'hopkins': 2120, 'usually': 4706, 'construction': 905, 'ignorant': 2196, 'mark': 2718, 'spelled': 4154, 'advance': 60, 'paranoid': 3129, 'imma': 2213, 'soap': 4088, 'karma': 2435, 'dumb': 1384, 'eradicated': 1506, 'facts': 1634, 'tuned': 4620, 'impeach': 2227, 'prior': 3370, 'appeal': 203, 'import': 2232, 'epidemiology': 1500, 'prayers': 3320, 'army': 231, 'knowledge': 2468, 'britain': 532, 'selfish': 3884, 'bullshit': 566, 'ends': 1470, 'claim': 771, 'fails': 1639, 'passed': 3143, 'henan': 2059, 'checked': 726, 'investment': 2343, 'strategists': 4258, 'citizen': 767, 'parents': 3131, 'crowd': 1037, 'fema': 1694, 'law': 2520, 'colorado': 825, 'without': 4901, 'gloves': 1915, 'differences': 1236, 'gone': 1926, 'criticism': 1032, 'touching': 4533, 'bags': 324, 'rid': 3712, 'accepted': 20, 'thus': 4487, 'strong': 4272, 'eliminate': 1445, 'window': 4881, 'boom': 474, 'urges': 4694, 'prisoner': 3374, 'slowing': 4065, 'doe': 1311, 'explains': 1597, 'wiping': 4890, 'percentage': 3176, 'chine': 747, 'reduces': 3568, 'rich': 3709, 'cycle': 1073, 'packages': 3110, 'plz': 3261, 'extremely': 1618, 'anyway': 192, 'necessary': 2930, 'crude': 1042, 'struggle': 4277, 'plunged': 3259, 'coro': 952, 'joins': 2414, 'ugly': 4641, 'lied': 2565, 'active': 36, 'nationwide': 2920, 'trains': 4559, 'leader': 2527, 'declares': 1129, 'fromchina': 1827, 'earths': 1403, 'proud': 3425, 'figures': 1708, 'spoke': 4162, 'xinjiang': 4958, 'versus': 4731, 'strike': 4270, 'loose': 2636, 'warfare': 4793, 'labs': 2489, 'largest': 2502, 'christian': 757, 'misinformation': 2824, 'studio': 4284, 'citywide': 770, 'visits': 4763, 'easy': 1411, 'affecting': 75, 'somehow': 4110, 'korean': 2477, 'anywhere': 194, 'loved': 2647, 'unprepared': 4678, 'present': 3347, 'provides': 3431, 'contracting': 931, 'battling': 354, 'toilet': 4511, 'ecdc': 1418, 'malaysian': 2688, 'tracker': 4547, 'tool': 4521, 'nuclear': 2995, 'queensland': 3474, 'races': 3487, 'nurses': 3001, 'bodies': 462, 'school': 3831, 'protected': 3416, 'disagree': 1249, 'suggest': 4303, 'biological': 415, 'liverpool': 2601, 'bottle': 487, 'express': 1610, 'urgent': 4693, 'certainly': 696, 'stigma': 4231, 'led': 2545, 'blessed': 442, 'whoever': 4864, 'universe': 4668, 'continued': 925, 'useless': 4701, 'trend': 4587, 'lassa': 2505, 'fever': 1697, 'coronavirusinfection': 960, 'girls': 1904, 'throat': 4480, 'sore': 4121, 'regards': 3578, 'individuals': 2272, 'protest': 3422, 'minute': 2821, 'supposed': 4324, 'religion': 3602, 'survival': 4342, 'surfaces': 4329, 'terrorism': 4431, 'bullish': 565, 'hiding': 2072, 'multi': 2889, 'education': 1430, 'fingers': 1725, 'reference': 3571, 'clinic': 788, 'based': 342, 'disappeared': 1251, 'imagine': 2210, 'indicate': 2269, 'priority': 3372, 'wellness': 4844, 'facilities': 1626, 'diagnose': 1219, 'coverup': 1006, 'specialist': 4146, 'evacuate': 1532, 'fromwuhan': 1828, 'campaign': 601, 'dressed': 1355, 'chi': 733, 'aussies': 288, 'fault': 1667, 'adding': 45, 'continue': 924, 'occur': 3012, 'guard': 1973, 'moving': 2885, 'nowhere': 2992, 'sudden': 4299, 'normal': 2981, 'owns': 3105, 'durham': 1389, 'realtime': 3541, 'click': 783, 'background': 317, 'pressure': 3353, 'org': 3063, 'admits': 56, 'giving': 1908, 'sad': 3779, 'shall': 3940, 'monday': 2852, 'artists': 248, 'schedules': 3829, 'considering': 902, 'status': 4215, 'tweeting': 4630, 'evacuation': 1536, 'haha': 1988, 'stupidity': 4290, 'highlights': 2077, 'deadlier': 1105, 'awareness': 308, 'ignore': 2197, 'regime': 3579, 'impacts': 2226, 'biologist': 416, 'weapons': 4821, 'chemical': 729, 'agent': 88, 'cup': 1056, 'somewhere': 4114, 'timely': 4497, 'broken': 541, 'answer': 177, 'renamed': 3619, 'deployed': 1180, 'battle': 352, 'shakes': 3938, 'faith': 1643, 'reality': 3536, 'fir': 1730, 'bali': 326, 'accused': 28, 'engineering': 1476, 'wondering': 4908, 'kongs': 2474, 'protests': 3424, 'desperate': 1194, 'headed': 2028, 'linking': 2591, 'virology': 4750, 'joking': 2418, 'dramatic': 1350, 'soft': 4096, 'blocking': 446, 'member': 2770, 'meetings': 2765, 'son': 4115, 'accurate': 27, 'kindly': 2456, 'fox': 1805, 'googling': 1933, 'charter': 720, 'explaining': 1596, 'casualty': 655, 'mutated': 2897, 'havoc': 2022, 'language': 2498, 'dos': 1335, 'incurable': 2260, 'dodge': 1309, 'agreement': 95, 'war': 4791, 'poor': 3279, 'though': 4466, 'remedy': 3608, 'ages': 90, 'experimental': 1590, 'ordered': 3060, 'agreed': 94, 'digital': 1239, 'hidden': 2070, 'rep': 3623, 'terrifying': 4428, 'useful': 4700, 'smoking': 4079, 'answers': 179, 'nebraska': 2929, 'radio': 3492, 'effects': 1435, 'blowing': 454, 'exact': 1559, 'senate': 3892, 'bigger': 404, 'corner': 951, 'board': 459, 'tracks': 4549, 'wil': 4873, 'exist': 1572, 'queen': 3472, 'massive': 2731, 'minutes': 2822, 'alot': 136, 'dec': 1119, 'forum': 1798, 'speaking': 4143, 'recover': 3560, 'hmm': 2090, 'concentration': 868, 'camps': 604, 'thru': 4484, 'buddy': 554, 'zombies': 4996, 'win': 4879, 'except': 1568, 'deleted': 1157, 'censored': 683, 'postponed': 3301, 'nih': 2966, 'managing': 2697, 'arizona': 228, 'engineer': 1474, 'inappropriate': 2243, 'games': 1859, 'icu': 2183, 'presumptive': 3354, 'listen': 2594, 'globally': 1913, 'stores': 4246, 'exposes': 1607, 'core': 950, 'flaws': 1744, 'strengths': 4264, 'governance': 1941, 'shaking': 3939, 'pass': 3142, 'compiled': 860, 'ambulance': 147, 'ontarios': 3044, 'chief': 737, 'choice': 751, 'scenario': 3823, 'recreate': 3565, 'managed': 2694, 'sneezing': 4086, 'action': 33, 'tried': 4594, 'blood': 449, 'history': 2085, 'peopl': 3171, 'administration': 54, 'banning': 335, 'material': 2735, 'clout': 802, 'olympics': 3035, 'door': 1333, 'space': 4134, 'sat': 3802, 'interest': 2325, 'jama': 2389, 'fiweh': 1740, 'epidemiologist': 1499, 'blue': 456, 'effective': 1433, 'reaction': 3527, 'react': 3526, 'swiftly': 4364, 'century': 693, 'studies': 4283, 'credible': 1023, 'dad': 1075, 'abroad': 9, 'evacuates': 1534, 'accelerates': 17, 'beating': 364, 'holding': 2098, 'daughter': 1096, 'chat': 722, 'view': 4740, 'topic': 4524, 'detection': 1205, 'earth': 1400, 'centralized': 691, 'responsibility': 3672, 'banks': 333, 'tim': 4494, 'cook': 939, 'apple': 210, 'donate': 1323, 'relief': 3600, 'earthquake': 1401, 'problems': 3383, 'provinces': 3433, 'raise': 3497, 'seeking': 3874, 'happen': 2003, 'carbon': 630, 'https': 2148, 'tryna': 4614, 'recovered': 3561, 'ltimo': 2653, 'moderna': 2846, 'gracias': 1947, 'asap': 249, 'numbers': 2998, 'smith': 4076, 'trudeau': 4603, 'liberals': 2563, 'birds': 424, 'buildings': 560, 'san': 3793, 'francisco': 1811, 'hurts': 2170, 'tours': 4539, 'agency': 86, 'laughing': 2515, 'sign': 4011, 'crush': 1047, 'hotels': 2135, 'faces': 1624, 'wesleyan': 4847, 'nigga': 2962, 'coughed': 979, 'stand': 4194, 'russias': 3774, 'worlds': 4924, 'feb': 1678, 'opportunity': 3056, 'credit': 1024, 'escape': 1510, 'fortune': 1797, 'immunity': 2220, 'buying': 584, 'propaganda': 3408, 'host': 2129, 'prediction': 3328, 'deep': 1137, 'agree': 93, 'honest': 2108, 'cute': 1069, 'honey': 2110, 'modelos': 2842, 'dashboard': 1091, 'thinks': 4463, 'vast': 4721, 'majority': 2678, 'plainly': 3232, 'appears': 208, 'donating': 1326, 'comment': 836, 'sht': 3993, 'western': 4850, 'screw': 3850, 'informative': 2301, 'fans': 1653, 'attending': 283, 'seoul': 3905, 'concerts': 875, 'tha': 4439, 'advises': 67, 'locals': 2612, 'solve': 4106, 'climbing': 786, 'pictures': 3218, 'internet': 2331, 'senior': 3897, 'suggested': 4304, 'worth': 4935, 'braces': 502, 'strange': 4255, 'sha': 3934, 'praises': 3315, 'evacuated': 1533, 'expect': 1580, 'spit': 4161, 'relies': 3601, 'rhino': 3707, 'apa': 195, 'breathe': 518, 'resource': 3661, 'gen': 1874, 'coronovirus': 964, 'pakistani': 3117, 'buses': 573, 'kuwait': 2484, 'ver': 4727, 'overheard': 3095, 'tighten': 4490, 'protective': 3419, 'disasters': 1254, 'willing': 4878, 'orange': 3058, 'security': 3870, 'empty': 1466, 'match': 2732, 'crypto': 1050, 'binance': 412, 'pledges': 3254, 'quicker': 3480, 'proven': 3427, 'society': 4094, 'whistleblower': 4861, 'itv': 2382, 'systems': 4377, 'invented': 2337, 'swiss': 4366, 'horrible': 2122, 'shouldnt': 3986, 'feelings': 1688, 'sinophobia': 4035, 'average': 300, 'ability': 6, 'football': 1774, 'matches': 2733, 'sport': 4166, 'single': 4033, 'registers': 3585, 'individual': 2271, 'xenophobic': 4956, 'measles': 2749, 'porn': 3286, 'winning': 4884, 'league': 2532, 'praying': 3321, 'modern': 2845, 'genuinely': 1885, 'return': 3687, 'prob': 3379, 'bacteria': 318, 'evaluated': 1540, 'turned': 4623, 'dry': 1377, 'awful': 311, 'perfect': 3177, 'storm': 4248, 'exists': 1574, 'filthy': 1715, 'communism': 847, 'struggles': 4278, 'brief': 521, 'confident': 884, 'shits': 3968, 'awards': 306, 'sanitize': 3796, 'complete': 862, 'coronaviruss': 962, 'ani': 167, 'nation': 2915, 'adult': 59, 'steal': 4220, 'weaponize': 4819, 'challenge': 702, 'winter': 4886, 'fully': 1840, 'problem': 3382, 'pose': 3290, 'minor': 2819, 'stomach': 4239, 'amazon': 144, 'studying': 4286, 'miles': 2805, 'politics': 3275, 'aside': 255, 'unfortunately': 4660, 'direct': 1243, 'result': 3683, 'importing': 2236, 'realize': 3537, 'amongst': 156, 'per': 3174, 'strategies': 4256, 'rumour': 3763, 'pro': 3378, 'sequencing': 3911, 'experience': 1586, 'capacity': 624, 'malay': 2686, 'author': 294, 'actual': 40, 'estimated': 1519, 'tds': 4402, 'father': 1665, 'answered': 178, 'trumps': 4607, 'camp': 600, 'democrats': 1170, 'imp': 2222, 'rlly': 3727, 'kahit': 2434, 'lysol': 2661, 'casts': 654, 'doubt': 1340, 'danger': 1083, 'production': 3388, 'aapl': 0, 'trading': 4552, 'newsletter': 2952, 'kept': 2440, 'sleep': 4058, 'explodes': 1599, 'yea': 4963, 'delivers': 1163, 'carrier': 641, 'district': 1293, 'sho': 3969, 'fuckin': 1834, 'dark': 1088, 'lately': 2508, 'vote': 4773, 'connecticut': 896, 'popular': 3282, 'allows': 130, 'premier': 3336, 'worsens': 4932, 'ivory': 2384, 'sana': 3794, 'scarier': 3820, 'announcement': 172, 'schedule': 3827, 'mea': 2743, 'poll': 3276, 'management': 2695, 'recovery': 3564, 'cruise': 1043, 'extend': 1612, 'festival': 1696, 'fallout': 1647, 'tesla': 4432, 'bioweapon': 421, 'increasingly': 2257, 'fatality': 1664, 'publishes': 3442, 'jones': 2419, 'wrote': 4947, 'trigger': 4596, 'alcohol': 115, 'impossible': 2241, 'spending': 4157, 'ctv': 1053, 'aka': 111, 'sensible': 3900, 'permanent': 3181, 'soo': 4118, 'documented': 1308, 'becoming': 369, 'gas': 1863, 'sake': 3786, 'performance': 3178, 'athletics': 276, 'championships': 704, 'smallpox': 4070, 'destruction': 1198, 'unwell': 4682, 'hypochondriac': 2174, 'francis': 1810, 'prayer': 3319, 'guns': 1982, 'robert': 3732, 'sanitizer': 3797, 'transmit': 4563, 'methods': 2786, 'pak': 3115, 'content': 921, 'bars': 340, 'intensify': 2322, 'hoaxes': 2095, 'theories': 4449, 'stone': 4240, 'interactive': 2324, 'chest': 732, 'nose': 2985, 'frontline': 1830, 'tariff': 4396, 'upset': 4689, 'agents': 89, 'stats': 4214, 'helpful': 2056, 'continuing': 927, 'drugs': 1375, 'angeles': 163, 'massachusetts': 2729, 'hmmm': 2091, 'featuring': 1677, 'reproduction': 3636, 'immigrants': 2216, 'consume': 906, 'role': 3736, 'virginia': 4747, 'cent': 687, 'soars': 4091, 'property': 3411, 'fyi': 1852, 'ich': 2182, 'das': 1090, 'stfu': 4229, 'michigan': 2794, 'items': 2380, 'cooperation': 942, 'kinds': 2457, 'chen': 730, 'drug': 1374, 'kobe': 2471, 'bryant': 548, 'goa': 1917, 'evacuating': 1535, 'soda': 4095, 'kobes': 2472, 'routes': 3750, 'remove': 3614, 'bioengineered': 414, 'peace': 3163, 'realized': 3538, 'spelling': 4155, 'episode': 1501, 'greatest': 1957, 'distribution': 1292, 'maricopa': 2717, 'targets': 4395, 'passing': 3147, 'expanding': 1578, 'abbvie': 2, 'sucks': 4298, 'researching': 3650, 'fires': 1733, 'watched': 4809, 'biology': 417, 'outta': 3090, 'assess': 263, 'job': 2407, 'sweden': 4361, 'lies': 2566, 'rico': 3711, 'vegas': 4723, 'lose': 2639, 'brink': 529, 'staying': 4217, 'ard': 221, 'couldnt': 984, 'exceeds': 1566, 'mate': 2734, 'nominate': 2975, 'airlift': 103, 'sentence': 3903, 'sense': 3898, 'idiots': 2192, 'pharmaceutical': 3197, 'secret': 3863, 'missing': 2828, 'economics': 1420, 'apart': 196, 'discovery': 1260, 'harder': 2009, 'cytokine': 1074, 'asu': 273, 'stat': 4205, 'christmas': 759, 'island': 2362, 'apartment': 197, 'silent': 4018, 'importance': 2233, 'preventative': 3357, 'convinced': 938, 'alabama': 112, 'stopping': 4243, 'arrive': 239, 'papers': 3127, 'respond': 3667, 'unexpected': 4659, 'recap': 3546, 'funding': 1844, 'card': 631, 'fda': 1669, 'cleared': 781, 'approved': 215, 'meets': 2766, 'protects': 3420, 'specifically': 4149, 'ftse': 1831, 'protesters': 3423, 'proposed': 3414, 'jumped': 2427, 'followed': 1766, 'fearful': 1672, 'supplies': 4319, 'thecoronavirus': 4446, 'shunned': 3994, 'fragile': 1808, 'cool': 941, 'containment': 917, 'tally': 4391, 'collapse': 820, 'power': 3308, 'cryptocurrency': 1051, 'blockchain': 444, 'serio': 3915, 'brothers': 544, 'wed': 4829, 'understanding': 4657, 'mapped': 2709, 'challenges': 703, 'chris': 755, 'martenson': 2724, 'barely': 339, 'heat': 2044, 'degrees': 1149, 'broke': 540, 'dun': 1385, 'children': 740, 'tragedy': 4555, 'pushing': 3456, 'mins': 2820, 'owner': 3103, 'lobster': 2610, 'michael': 2793, 'impacted': 2224, 'changes': 711, 'edition': 1427, 'holds': 2099, 'bush': 574, 'tax': 4399, 'tiktok': 4492, 'attack': 277, 'hosts': 2131, 'steam': 4222, 'usd': 4697, 'fed': 1682, 'mit': 2832, 'yuan': 4985, 'survive': 4343, 'weather': 4825, 'damage': 1079, 'wales': 4779, 'scrambles': 3844, 'evac': 1531, 'carried': 640, 'strict': 4268, 'booked': 471, 'harvard': 2014, 'strategist': 4257, 'site': 4039, 'speak': 4142, 'bracing': 503, 'lmfao': 2606, 'perhaps': 3179, 'priorities': 3371, 'burn': 570, 'age': 84, 'anybody': 188, 'lymes': 2660, 'cell': 681, 'rna': 3729, 'receptor': 3551, 'gene': 1876, 'tough': 4534, 'suicide': 4307, 'members': 2771, 'brits': 537, 'picture': 3217, 'flooding': 1752, 'meltdown': 2769, 'notes': 2987, 'fueling': 1837, 'contacts': 911, 'biowarfare': 420, 'indians': 2267, 'facebook': 1622, 'bushfires': 576, 'confidence': 883, 'classes': 777, 'manila': 2700, 'survey': 4341, 'interviewed': 2333, 'statistics': 4213, 'ambassador': 145, 'heartbreaking': 2043, 'japans': 2396, 'economists': 1423, 'bloomberg': 451, 'implemented': 2230, 'loss': 2641, 'chang': 708, 'assets': 265, 'shameful': 3942, 'mongolia': 2856, 'sports': 4167, 'britons': 536, 'shocking': 3972, 'hurt': 2168, 'reviews': 3703, 'imports': 2237, 'jakarta': 2388, 'sink': 4034, 'havens': 2020, 'mans': 2702, 'hint': 2083, 'biotech': 419, 'pharma': 3196, 'surges': 4332, 'forgot': 1792, 'account': 25, 'alright': 138, 'sensex': 3899, 'sigh': 4009, 'hoax': 2094, 'bay': 356, 'accept': 19, 'boosts': 476, 'tumble': 4618, 'spark': 4138, 'distress': 1291, 'uncertainties': 4649, 'ino': 2306, 'realizing': 3539, 'catastrophe': 657, 'ideas': 2186, 'bombshell': 467, 'iraq': 2356, 'botswana': 486, 'sight': 4010, 'rubber': 3756, 'mor': 2867, 'questioned': 3476, 'cambodia': 595, 'tip': 4500, 'saving': 3806, 'meds': 2762, 'asians': 253, 'influence': 2295, 'wide': 4868, 'fleeing': 1746, 'philippine': 3203, 'attacks': 279, 'hundred': 2163, 'ghanaian': 1895, 'mayor': 2741, 'products': 3389, 'trends': 4589, 'rates': 3514, 'bangkok': 329, 'ethiopia': 1524, 'africas': 82, 'hai': 1990, 'aur': 285, 'slap': 4055, 'paying': 3161, 'pero': 3183, 'manage': 2693, 'evacuations': 1537, 'iii': 2201, 'refused': 3574, 'toddler': 4508, 'dutch': 1391, 'silver': 4019, 'lining': 2588, 'hype': 2173, 'seventh': 3927, 'false': 1649, 'accounts': 26, 'essential': 1515, 'slide': 4060, 'blaming': 439, 'xiaomi': 4957, 'introduces': 2335, 'icymi': 2184, 'remains': 3605, 'dip': 1241, 'bought': 490, 'snapshot': 4082, 'capitalism': 627, 'iowa': 2348, 'partners': 3139, 'spokesman': 4163, 'female': 1695, 'coronavirusfears': 959, 'assistance': 268, 'bomb': 466, 'sri': 4185, 'lanka': 2499, 'ironic': 2359, 'quiet': 3482, 'worldnews': 4922, 'employees': 1463, 'stranded': 4254, 'trips': 4601, 'pending': 3167, 'eric': 1507, 'letting': 2559, 'fund': 1842, 'reu': 3693, 'along': 134, 'thi': 4457, 'justify': 2433, 'disrespectful': 1280, 'chart': 719, 'charge': 716, 'temporarily': 4418, 'scheduled': 3828, 'villa': 4743, 'blow': 452, 'bond': 468, 'bets': 396, 'arrests': 236, 'activist': 37, 'cleaning': 779, 'ensure': 1482, 'asymptomatic': 274, 'brown': 546, 'views': 4741, 'fuel': 1836, 'italy': 2378, 'consumer': 907, 'stage': 4189, 'authority': 297, 'ticket': 4488, 'luck': 2654, 'laughed': 2514, 'reducing': 3569, 'path': 3154, 'store': 4245, 'triggered': 4597, 'prompts': 3406, 'scramble': 3843, 'records': 3559, 'posting': 3299, 'continent': 923, 'relate': 3588, 'imo': 2221, 'kid': 2445, 'uni': 4661, 'asias': 254, 'unit': 4665, 'reasons': 3543, 'scam': 3813, 'twice': 4632, 'floods': 1753, 'sentiment': 3904, 'former': 1794, 'skip': 4050, 'btw': 551, 'physicians': 3211, 'bear': 361, 'urge': 4691, 'intensifies': 2321, 'spx': 4181, 'medicines': 2760, 'dropped': 1371, 'rallies': 3501, 'citing': 766, 'sectors': 3868, 'foxconn': 1806, 'samsung': 3792, 'factories': 1631, 'lil': 2576, 'quit': 3483, 'jus': 2431, 'sweeping': 4362, 'racing': 3488, 'incoming': 2251, 'evacuees': 1539, 'habits': 1986, 'program': 3396, 'mainstream': 2674, 'bothered': 485, 'election': 1443, 'virtual': 4751, 'slump': 4068, 'brave': 508, 'pregnant': 3333, 'beds': 371, 'leaders': 2528, 'bank': 331, 'industries': 2280, 'forefront': 1785, 'cheap': 723, 'professional': 3391, 'distraction': 1290, 'reporters': 3633, 'dominate': 1320, 'commodity': 845, 'businesses': 578, 'severely': 3930, 'driven': 1361, 'thehill': 4447, 'crying': 1049, 'shanxi': 3945, 'hat': 2017, 'batch': 348, 'idiotic': 2191, 'announcing': 174, 'yield': 4973, 'caucus': 663, 'legal': 2549, 'consequences': 898, 'shipped': 3963, 'affairs': 72, 'hide': 2071, 'plasma': 3242, 'solidarity': 4103, 'messages': 2782, 'windows': 4882, 'larry': 2503, 'book': 470, 'delaying': 1153, 'canceled': 611, 'discusses': 1265, 'sustained': 4358, 'slip': 4062, 'panicking': 3125, 'shortage': 3981, 'seriouscritical': 3917, 'condition': 878, 'hashtag': 2015, 'din': 1240, 'missed': 2827, 'disgusting': 1272, 'jumping': 2428, 'confir': 886, 'undergo': 4653, 'runs': 3767, 'destroying': 1197, 'trouble': 4602, 'nyc': 3004, 'floating': 1751, 'curated': 1057, 'cos': 971, 'smartphone': 4072, 'florida': 1755, 'screaming': 3845, 'claiming': 773, 'spot': 4168, 'est': 1516, 'gmt': 1916, 'peak': 3164, 'areas': 224, 'experienced': 1587, 'independent': 2263, 'significant': 4014, 'pussy': 3457, 'deemed': 1136, 'issuing': 2375, 'visas': 4757, 'terms': 4425, 'absence': 10, 'plenty': 3255, 'advising': 68, 'persons': 3189, 'rml': 3728, 'pti': 3438, 'tightens': 4491, 'freak': 1813, 'semester': 3889, 'qatar': 3462, 'standards': 4196, 'worl': 4920, 'recommends': 3556, 'outbre': 3078, 'chinatown': 746, 'tops': 4526, 'spray': 4171, 'simon': 4021, 'plunge': 3258, 'rule': 3758, 'refer': 3570, 'bavaria': 355, 'marc': 2714, 'siegel': 4007, 'example': 1563, 'unlikely': 4674, 'allowing': 129, 'cali': 588, 'declines': 1133, 'worked': 4914, 'yields': 4974, 'iam': 2178, 'lifts': 2569, 'morgan': 2869, 'stanley': 4198, 'smokers': 4078, 'environment': 1490, 'sam': 3789, 'indeed': 2261, 'supermarket': 4315, 'shopping': 3977, 'placed': 3226, 'laboratories': 2486, 'conservative': 899, 'weaponized': 4820, 'tackling': 4381, 'misleading': 2825, 'bitter': 433, 'allegedly': 125, 'restaurant': 3676, 'shaheen': 3936, 'bagh': 323, 'crowds': 1039, 'changing': 712, 'fit': 1738, 'han': 1996, 'stole': 4237, 'nahi': 2906, 'spotted': 4169, 'straight': 4250, 'breath': 517, 'cruises': 1044, 'cancelling': 615, 'surpasses': 4335, 'educate': 1429, 'disrupt': 1281, 'apples': 211, 'nikkei': 2968, 'tune': 4619, 'slammed': 4053, 'richard': 3710, 'wegen': 4836, 'depopulation': 1182, 'agenda': 87, 'mental': 2775, 'debt': 1116, 'jitters': 2406, 'therefore': 4452, 'bogus': 465, 'res': 3643, 'harsh': 2013, 'ship': 3960, 'mall': 2690, 'benefit': 390, 'walls': 4783, 'angle': 165, 'setting': 3925, 'nairobi': 2907, 'shots': 3985, 'drivers': 1363, 'slash': 4056, 'imported': 2235, 'glob': 1910, 'homes': 2105, 'draws': 1353, 'driver': 1362, 'colleagues': 823, 'duque': 1387, 'onboard': 3038, 'bhi': 401, 'visualization': 4765, 'forecast': 1783, 'voluntary': 4770, 'links': 2592, 'operations': 3053, 'characteristics': 715, 'infec': 2286, 'edges': 1426, 'israel': 2369, 'obvious': 3009, 'held': 2051, 'euro': 1526, 'comparison': 858, 'repo': 3628, 'divided': 1297, 'rhythm': 3708, 'sympathy': 4372, 'furious': 1848, 'danish': 1086, 'flag': 1741, 'turkey': 4621, 'birth': 426, 'cna': 808, 'weighs': 4838, 'dollars': 1317, 'cuts': 1070, 'cou': 977, 'jinpings': 2405, 'diego': 1233, 'tocoronavirus': 4505, 'sec': 3860, 'livestream': 2603, 'approves': 216, 'slight': 4061, 'bounce': 491, 'groups': 1964, 'foreigners': 1787, 'regional': 3582, 'ion': 2347, 'chicken': 735, 'ultimate': 4646, 'narrative': 2911, 'amount': 157, 'proves': 3428, 'badly': 321, 'suit': 4308, 'ryan': 3776, 'airpods': 107, 'accidentally': 23, 'designed': 1193, 'domestic': 1319, 'investingcom': 2342, 'union': 4662, 'involved': 2346, 'cope': 944, 'survivor': 4345, 'chain': 698, 'confusion': 893, 'woes': 4902, 'suppliers': 4318, 'skin': 4049, 'mode': 2838, 'zte': 4999, 'remote': 3613, 'prepping': 3345, 'wise': 4894, 'outlet': 3084, 'tens': 4423, 'sends': 3896, 'letter': 2558, 'liang': 2562, 'natural': 2921, 'starbucks': 4200, 'books': 473, 'restrict': 3678, 'cease': 677, 'riots': 3717, 'ride': 3713, 'revenue': 3699, 'exotic': 1575, 'potentially': 3306, 'adhanom': 51, 'hhs': 2069, 'maker': 2680, 'miami': 2791, 'judge': 2425, 'ohio': 3029, 'descent': 1186, 'bangladesh': 330, 'impose': 2238, 'onto': 3045, 'caa': 586, 'hampshire': 1995, 'der': 1185, 'determined': 1207, 'spend': 4156, 'makers': 2681, 'zimbabwe': 4994, 'delays': 1154, 'isolating': 2367, 'advanced': 61, 'labour': 2488, 'vox': 4774, 'kits': 2462, 'iphones': 2351, 'universal': 4667, 'mandatory': 2699, 'criminal': 1028, 'gdp': 1871, 'immigration': 2217, 'whistleblowers': 4862, 'donated': 1324, 'reply': 3627, 'aggressive': 91, 'drive': 1360, 'drives': 1364, 'ally': 131, 'cor': 949, 'projected': 3401, 'heavy': 2046, 'vector': 4722, 'unlike': 4673, 'male': 2689, 'aviation': 302, 'cancer': 617, 'employee': 1462, 'columbia': 826, 'doc': 1299, 'foothold': 1775, 'neither': 2935, 'controlling': 935, 'roni': 3740, 'caryn': 647, 'rabin': 3485, 'denise': 1174, 'grady': 1948, 'birmingham': 425, 'looked': 2631, 'project': 3400, 'knock': 2464, 'demands': 1168, 'cartoon': 646, 'request': 3639, 'rsa': 3753, 'insight': 2312, 'workplace': 4918, 'hill': 2080, 'cracks': 1013, 'creates': 1020, 'volunteered': 4772, 'laugh': 2513, 'water': 4811, 'spooks': 4165, 'repeating': 3626, 'target': 4392, 'responding': 3668, 'symbol': 4370, 'azar': 312, 'describes': 1189, 'itll': 2381, 'activities': 38, 'lawrence': 2522, 'balls': 327, 'journey': 2424, 'mesa': 2779, 'initial': 2304, 'hook': 2115, 'alive': 122, 'newest': 2947, 'irrational': 2360, 'listening': 2595, 'artificially': 247, 'restricted': 3679, 'commissioner': 841, 'crack': 1011, 'robots': 3734, 'deliver': 1160, 'regular': 3586, 'risky': 3725, 'grown': 1967, 'breakthrough': 516, 'detroit': 1208, 'provided': 3430, 'blocks': 447, 'disrupting': 1283, 'booking': 472, 'opens': 3051, 'powerful': 3310, 'recommend': 3554, 'ameripris': 152, 'homeless': 2104, 'deliberately': 1159, 'inevitable': 2282, 'bound': 492, 'arrivals': 238, 'dramatically': 1351, 'shortages': 3982, 'realise': 3535, 'cat': 656, 'various': 4720, 'businessman': 579, 'telework': 4413, 'continuity': 928, 'nuke': 2996, 'cares': 635, 'samples': 3791, 'deals': 1110, 'whistle': 4860, 'sale': 3787, 'discrimination': 1262, 'jet': 2402, 'flies': 1748, 'suppose': 4323, 'johnson': 2411, 'policy': 3272, 'som': 4108, 'dick': 1228, 'valentines': 4713, 'bathroom': 350, 'arrested': 234, 'explore': 1601, 'reliable': 3598, 'successfully': 4296, 'zerohedge': 4989, 'peo': 3169, 'bowl': 495, 'develops': 1215, 'debunked': 1117, 'disinformation': 1277, 'plead': 3251, 'hindi': 2081, 'reserve': 3651, 'racists': 3491, 'israeli': 2370, 'weight': 4839, 'leaked': 2534, 'uae': 4637, 'main': 2671, 'doomed': 1331, 'feces': 1681, 'urine': 4695, 'legitimate': 2551, 'offering': 3018, 'police': 3270, 'cow': 1008, 'dung': 1386, 'bubble': 552, 'conversation': 937, 'alex': 119, 'pharmacy': 3200, 'outbr': 3077, 'final': 1716, 'briefly': 523, 'med': 2753, 'hos': 2125, 'indonesian': 2274, 'searches': 3856, 'airways': 110, 'armed': 230, 'uses': 4703, 'thin': 4458, 'herd': 2063, 'retail': 3686, 'stall': 4192, 'david': 1097, 'expectations': 1581, 'quarter': 3470, 'flow': 1756, 'locations': 2615, 'includes': 2249, 'bjp': 434, 'rules': 3760, 'capability': 622, 'thai': 4440, 'disinfect': 1274, 'boat': 461, 'operation': 3052, 'transfer': 4560, 'wears': 4824, 'indonesias': 2275, 'toyota': 4544, 'heal': 2034, 'diverted': 1296, 'base': 341, 'freedom': 1817, 'mini': 2814, 'pst': 3437, 'sooner': 4120, 'mum': 2891, 'forcing': 1781, 'association': 270, 'womens': 4906, 'constantly': 904, 'recession': 3552, 'stays': 4218, 'koreas': 2479, 'vir': 4745, 'dependence': 1179, 'mission': 2829, 'isolate': 2364, 'covered': 1003, 'hunger': 2165, 'requests': 3640, 'sample': 3790, 'piss': 3223, 'surpass': 4334, 'prison': 3373, 'supplier': 4317, 'overtake': 3098, 'outrage': 3088, 'chances': 707, 'manufacturing': 2706, 'abuja': 13, 'disabled': 1248, 'cash': 651, 'afternoon': 83, 'modi': 2847, 'islamic': 2361, 'gauge': 1867, 'csse': 1052, 'billions': 409, 'jack': 2385, 'coronavirusscare': 963, 'leg': 2548, 'mixed': 2835, 'panel': 3120, 'bacterial': 319, 'regimes': 3580, 'closures': 800, 'spell': 4153, 'closer': 796, 'eminem': 1459, 'breathing': 519, 'defeat': 1141, 'facing': 1628, 'permission': 3182, 'tsla': 4615, 'car': 629, 'deliveries': 1162, 'politicians': 3274, 'surpassing': 4336, 'verge': 4728, 'min': 2811, 'riverside': 3726, 'select': 3882, 'wrapup': 4940, 'mongering': 2855, 'fellow': 1692, 'prove': 3426, 'transparent': 4566, 'ridiculous': 3714, 'roger': 3735, 'analysts': 161, 'billionaire': 408, 'donates': 1325, 'tariffs': 4397, 'moon': 2866, 'commodities': 844, 'compelling': 859, 'bag': 322, 'tragic': 4556, 'truly': 4605, 'sheet': 3955, 'suspending': 4353, 'believing': 387, 'forcoronavirus': 1782, 'journalist': 2422, 'accuses': 29, 'responds': 3669, 'zhang': 4990, 'weili': 4840, 'removing': 3617, 'aid': 97, 'exceeding': 1565, 'experiment': 1589, 'disaster': 1253, 'believes': 386, 'refund': 3572, 'abuse': 14, 'gods': 1920, 'truths': 4610, 'adverse': 62, 'meme': 2772, 'stolen': 4238, 'scrutiny': 3851, 'chairman': 700, 'powell': 3307, 'web': 4826, 'dis': 1247, 'sichuan': 4001, 'clorox': 792, 'disinfecting': 1276, 'wipes': 4889, 'fauci': 1666, 'lebanese': 2543, 'disruption': 1284, 'dirty': 1246, 'discovers': 1259, 'failure': 1640, 'families': 1650, 'church': 762, 'disruptions': 1285, 'coworker': 1009, 'seize': 3881, 'psa': 3435, 'santa': 3800, 'clara': 775, 'discussing': 1266, 'guinea': 1980, 'dynamics': 1396, 'punish': 3447, 'sex': 3932, 'elizabeth': 1447, 'warren': 4801, 'sellers': 3886, 'sponsored': 4164, 'scmp': 3838, 'hoarders': 2092, 'progress': 3398, 'primary': 3366, 'hows': 2146, 'fearing': 1673, 'offices': 3023, 'aboard': 8, 'service': 3919, 'mix': 2834, 'xis': 4959, 'fired': 1732, 'kudlow': 2481, 'explode': 1598, 'pays': 3162, 'dictatorship': 1229, 'makeshift': 2683, 'england': 1477, 'economies': 1421, 'chains': 699, 'launched': 2518, 'additional': 47, 'dua': 1378, 'deeply': 1140, 'yahoo': 4960, 'gym': 1985, 'tweak': 4627, 'structure': 4276, 'soccer': 4092, 'writes': 4943, 'entirely': 1488, 'departure': 1178, 'presidential': 3350, 'raised': 3498, 'complacency': 861, 'eme': 1453, 'hurting': 2169, 'offensive': 3016, 'imho': 2212, 'supports': 4322, 'newsfeed': 2951, 'diary': 1227, 'fansigns': 1654, 'allowed': 128, 'harm': 2011, 'ponder': 3278, 'intermediate': 2329, 'prophet': 3413, 'prohibited': 3399, 'eaten': 1413, 'currency': 1063, 'charges': 717, 'sig': 4008, 'shirt': 3966, 'code': 815, 'meaning': 2745, 'focuses': 1763, 'veins': 4725, 'formula': 1796, 'swan': 4359, 'forward': 1799, 'duterte': 1392, 'lawmakers': 2521, 'portion': 3288, 'hea': 2025, 'indias': 2268, 'tribute': 4593, 'plea': 3250, 'faqs': 1655, 'spare': 4137, 'filipino': 1709, 'range': 3508, 'overtakes': 3099, 'critical': 1031, 'symp': 4371, 'monitors': 2860, 'warm': 4794, 'friendly': 1823, 'fair': 1641, 'inspired': 2313, 'plant': 3240, 'giants': 1898, 'detail': 1199, 'hun': 2162, 'sen': 3891, 'suspicious': 4357, 'bath': 349, 'incredible': 2258, 'nintendo': 2970, 'overcome': 3093, 'coz': 1010, 'ukraine': 4643, 'publish': 3440, 'insurance': 2317, 'opec': 3046, 'evolution': 1556, 'herbal': 2062, 'prevents': 3361, 'mess': 2780, 'maintain': 2675, 'liner': 2585, 'ethiopian': 1525, 'incompetence': 2252, 'tencent': 4421, 'relative': 3592, 'epi': 1492, 'dems': 1171, 'gatherings': 1866, 'ross': 3744, 'infe': 2285, 'com': 827, 'zoonotic': 4998, 'shipments': 3962, 'decrease': 1134, 'dublin': 1380, 'asean': 250, 'indefinitely': 2262, 'creator': 1022, 'defends': 1143, 'docks': 1303, 'slowdown': 4064, 'treasury': 4580, 'smart': 4071, 'phones': 3207, 'travels': 4578, 'jail': 2387, 'expo': 1602, 'openly': 3050, 'wilbur': 4874, 'jobs': 2408, 'access': 21, 'cape': 625, 'plagued': 3229, 'intelligence': 2320, 'dollar': 1316, 'gamers': 1858, 'ports': 3289, 'shipping': 3964, 'dalio': 1078, 'bhai': 400, 'communities': 849, 'las': 2504, 'corporate': 965, 'owing': 3101, 'launches': 2519, 'abeg': 5, 'mistake': 2830, 'underground': 4654, 'eastern': 1410, 'huoshenshan': 2167, 'underreporting': 4655, 'operator': 3054, 'docked': 1301, 'ben': 389, 'honda': 2107, 'visa': 4756, 'likes': 2575, 'facial': 1625, 'soaring': 4090, 'adviser': 66, 'method': 2785, 'auto': 298, 'etauto': 1522, 'houses': 2142, 'panicked': 3124, 'wars': 4802, 'plot': 3256, 'chernobyl': 731, 'genius': 1881, 'solved': 4107, 'forms': 1795, 'pledged': 3253, 'enters': 1486, 'shocked': 3971, 'occurred': 3013, 'blocked': 445, 'beautiful': 365, 'facility': 1627, 'wirral': 4892, 'campaigns': 602, 'emotet': 1461, 'malware': 2691, 'nope': 2980, 'whilst': 4859, 'corruption': 970, 'therapy': 4451, 'hug': 2153, 'sea': 3852, 'sacramento': 3778, 'boris': 480, 'thatll': 4444, 'singing': 4032, 'bonds': 469, 'preparedness': 3342, 'situations': 4043, 'shoppers': 3976, 'controls': 936, 'acute': 42, 'alternative': 140, 'manufacturers': 2705, 'pheic': 3202, 'purchase': 3450, 'praise': 3314, 'sit': 4038, 'hardest': 2010, 'instagram': 2314, 'bin': 411, 'imminent': 2218, 'pat': 3150, 'officers': 3022, 'insider': 2311, 'recoveries': 3562, 'simpsons': 4024, 'cry': 1048, 'cutting': 1071, 'pmi': 3262, 'limitations': 2581, 'territory': 4429, 'italia': 2376, 'marked': 2719, 'infant': 2284, 'protein': 3421, 'epoch': 1502, 'brilliant': 525, 'genocide': 1882, 'mill': 2808, 'knocked': 2465, 'royal': 3752, 'bno': 458, 'exponential': 1603, 'honolulu': 2114, 'hawaii': 2023, 'moms': 2851, 'rome': 3739, 'impressive': 2242, 'disembark': 1271, 'para': 3128, 'speech': 4151, 'ninth': 2971, 'hunt': 2166, 'wins': 4885, 'telebriefing': 4411, 'resilience': 3656, 'targeting': 4394, 'corrupt': 969, 'humming': 2160, 'subway': 4294, 'outlook': 3086, 'volatility': 4768, 'writing': 4944, 'ruled': 3759, 'wedding': 4830, 'met': 2783, 'democracy': 1169, 'elderly': 1442, 'ards': 222, 'diversity': 1295, 'americas': 151, 'uber': 4638, 'carnival': 638, 'funds': 1845, 'vaccinate': 4709, 'pacific': 3107, 'context': 922, 'responses': 3671, 'denmark': 1175, 'culture': 1055, 'dodgy': 1310, 'cures': 1061, 'costa': 973, 'outcry': 3082, 'milan': 2803, 'genetically': 1880, 'diamond': 1224, 'industrial': 2279, 'aircraft': 102, 'delhi': 1158, 'holocaust': 2101, 'goldman': 1924, 'uganda': 4639, 'manchester': 2698, 'distance': 1288, 'annual': 175, 'uploaded': 4687, 'unions': 4663, 'newcastle': 2945, 'sbs': 3811, 'gender': 1875, 'mps': 2886, 'skyrocket': 4052, 'vulnerable': 4775, 'pulling': 3445, 'filled': 1712, 'seconds': 3862, 'preparation': 3338, 'counting': 987, 'requires': 3642, 'evacuee': 1538, 'monetary': 2853, 'majeure': 2676, 'professionals': 3392, 'unveils': 4681, 'device': 1216, 'chiefs': 738, 'copper': 946, 'appearing': 207, 'correct': 967, 'brand': 506, 'sciences': 3834, 'africans': 81, 'roundup': 3748, 'reacts': 3528, 'factors': 1632, 'organizers': 3066, 'kiss': 2460, 'tofrom': 4509, 'webinar': 4827, 'treatments': 4585, 'argument': 226, 'intentionally': 2323, 'sidelines': 4006, 'producing': 3386, 'king': 2458, 'attacked': 278, 'delta': 1165, 'diagnostic': 1222, 'downside': 1344, 'violent': 4744, 'dust': 1390, 'slams': 4054, 'medication': 2758, 'june': 2430, 'resign': 3654, 'direction': 1244, 'unique': 4664, 'respirators': 3665, 'pentagon': 3168, 'hopes': 2118, 'queens': 3473, 'lng': 2607, 'droplet': 1369, 'drones': 1367, 'indoors': 2277, 'hockey': 2096, 'bulletin': 564, 'rwanda': 3775, 'wave': 4812, 'intravenous': 2334, 'document': 1306, 'ighalo': 2194, 'personally': 3187, 'highlight': 2076, 'gaming': 1860, 'impacting': 2225, 'resistance': 3659, 'lpga': 2652, 'shed': 3954, 'clown': 803, 'sequenced': 3909, 'cdcs': 676, 'gay': 1869, 'delivered': 1161, 'gilead': 1900, 'squad': 4183, 'remdesivir': 3606, 'graph': 1952, 'lift': 2568, 'presidents': 3351, 'ukrainian': 4644, 'ibio': 2180, 'breakout': 514, 'anthony': 180, 'rea': 3521, 'volunteer': 4771, 'stable': 4187, 'bitcoins': 432, 'title': 4504, 'walmart': 4784, 'spain': 4135, 'myth': 2903, 'turner': 4624, 'joined': 2413, 'elsewhere': 1449, 'hed': 2047, 'utd': 4707, 'duration': 1388, 'evolved': 1557, 'scams': 3814, 'repatriated': 3624, 'contains': 918, 'insertions': 2309, 'stoking': 4236, 'sort': 4123, 'rescue': 3644, 'shooting': 3974, 'catholic': 661, 'numerous': 2999, 'kidding': 2446, 'recognition': 3553, 'mainly': 2673, 'overblown': 3092, 'dozen': 1346, 'removes': 3616, 'hindu': 2082, 'doxxing': 1345, 'georgia': 1886, 'exaggerated': 1561, 'joint': 2415, 'una': 4647, 'physical': 3210, 'beings': 383, 'taxi': 4400, 'qantas': 3461, 'mice': 2792, 'admitting': 58, 'cottrell': 976, 'casino': 652, 'percent': 3175, 'basis': 346, 'removed': 3615, 'incidents': 2246, 'bored': 479, 'admin': 53, 'coach': 812, 'uks': 4645, 'filter': 1714, 'boarding': 460, 'ski': 4048, 'perspective': 3190, 'kim': 2453, 'jong': 2420, 'size': 4047, 'courage': 995, 'malaria': 2685, 'confined': 885, 'paid': 3113, 'bbcnews': 358, 'mining': 2815, 'pulls': 3446, 'withdraws': 4899, 'pee': 3166, 'dates': 1095, 'lesson': 2553, 'captain': 628, 'censorship': 686, 'drone': 1366, 'defense': 1144, 'lungs': 2656, 'abandoned': 1, 'tiny': 4499, 'rare': 3511, 'pharmacies': 3199, 'obama': 3006, 'eighth': 1440, 'chickens': 736, 'gears': 1873, 'shutters': 3998, 'relationship': 3591, 'expresses': 1611, 'ships': 3965, 'elite': 1446, 'disappointed': 1252, 'abe': 4, 'combination': 829, 'attended': 282, 'lackland': 2491, 'afb': 71, 'censoring': 684, 'enemy': 1471, 'devastating': 1209, 'wreaking': 4941, 'genes': 1878, 'acc': 15, 'resignation': 3655, 'sin': 4027, 'shandong': 3943, 'pax': 3159, 'dea': 1102, 'worship': 4933, 'saint': 3785, 'rampal': 3504, 'maharaj': 2669, 'eater': 1414, 'europeans': 1529, 'serving': 3921, 'shelter': 3956, 'doors': 1334, 'govts': 1946, 'avian': 301, 'finishes': 1727, 'cremated': 1026, 'funerals': 1846, 'clusters': 807, 'apps': 217, 'scold': 3839, 'urged': 4692, 'commands': 835, 'firm': 1734, 'resilient': 3657, 'mixture': 2836, 'weakness': 4817, 'supreme': 4326, 'buffet': 556, 'myths': 2904, 'artificial': 246, 'punished': 3448, 'lea': 2525, 'barcelona': 338, 'silenced': 4017, 'focused': 1762, 'properly': 3410, 'wine': 4883, 'planes': 3235, 'hair': 1991, 'declined': 1132, 'apparent': 201, 'success': 4295, 'cocktail': 814, 'mitigate': 2833, 'suppress': 4325, 'delivery': 1164, 'bases': 343, 'relevant': 3597, 'smile': 4075, 'prank': 3316, 'overall': 3091, 'exposing': 1608, 'kuo': 2483, 'lowers': 2650, 'shipment': 3961, 'marat': 2712, 'combined': 830, 'candidate': 618, 'behavior': 380, 'escapes': 1512, 'promising': 3403, 'antiviral': 184, 'resume': 3685, 'software': 4098, 'models': 2844, 'pshuttle': 3436, 'fuels': 1838, 'ignorance': 2195, 'hackers': 1987, 'trillion': 4599, 'secretive': 3865, 'coronavirusepidemic': 957, 'reopen': 3621, 'cops': 947, 'extended': 1613, 'assuming': 272, 'chip': 749, 'campbell': 603, 'diarrhea': 1226, 'prejudice': 3334, 'cap': 621, 'trials': 4591, 'equipment': 1503, 'rescued': 3645, 'threatened': 4475, 'comedian': 832, 'leak': 2533, 'discharge': 1255, 'goods': 1931, 'clothes': 801, 'eventually': 1545, 'clips': 790, 'companys': 853, 'pharmaceuticals': 3198, 'investor': 2344, 'dance': 1082, 'rejected': 3587, 'garlic': 1862, 'remedies': 3607, 'clues': 805, 'discriminate': 1261, 'enhanced': 1479, 'moral': 2868, 'nears': 2928, 'iceberg': 2181, 'produce': 3385, 'deepening': 1138, 'defend': 1142, 'rages': 3494, 'susceptible': 4346, 'zhejiang': 4991, 'strength': 4263, 'rebound': 3544, 'linger': 2587, 'forbes': 1776, 'pulled': 3444, 'bioweapons': 422, 'topics': 4525, 'arrest': 233, 'tied': 4489, 'shortcomings': 3983, 'deficiencies': 1145, 'boyle': 499, 'grand': 1949, 'prix': 3377, 'bosses': 483, 'slashes': 4057, 'flawed': 1743, 'brit': 531, 'donations': 1328, 'awaiting': 305, 'gordon': 1934, 'themed': 4448, 'whic': 4858, 'gambling': 1856, 'attend': 281, 'pull': 3443, 'valid': 4714, 'lee': 2546, 'travis': 4579, 'worker': 4915, 'hongkongers': 2113, 'conferences': 882, 'microscope': 2795, 'republican': 3638, 'restructuring': 3682, 'baba': 313, 'chloroquine': 750, 'effectively': 1434, 'committed': 842, 'envision': 1491, 'cfr': 697, 'phishing': 3205, 'casinos': 653, 'siberia': 4000, 'definition': 1148, 'plants': 3241, 'wanting': 4789, 'westjet': 4851, 'hyundai': 2177, 'fiction': 1700, 'separated': 3907, 'ignoring': 2200, 'nike': 2967, 'defies': 1146, 'suggesting': 4305, 'session': 3922, 'revolt': 3706, 'pushes': 3455, 'exports': 1605, 'denied': 1172, 'princess': 3369, 'arirang': 227, 'widely': 4869, 'yokohama': 4976, 'route': 3749, 'censors': 685, 'mwc': 2900, 'computers': 866, 'bankers': 332, 'gileads': 1901, 'withdraw': 4898, 'unpaid': 4676, 'training': 4558, 'dutton': 1393, 'rounds': 3747, 'maria': 2716, 'optimism': 3057, 'resist': 3658, 'adidas': 52, 'fashion': 1659, 'secure': 3869, 'pods': 3265, 'sony': 4117, 'steady': 4219, 'shadow': 3935, 'wheres': 4856, 'dock': 1300, 'math': 2736, 'blues': 457, 'newborn': 2944, 'babies': 314, 'christ': 756, 'mankind': 2701, 'christians': 758, 'electronics': 1444, 'docking': 1302, 'pizza': 3224, 'kfc': 2443, 'ambitions': 146, 'worldometer': 4923, 'charity': 718, 'buyers': 583, 'hoarding': 2093, 'guests': 1976, 'concise': 876, 'youngest': 4981, 'square': 4184, 'crosses': 1035, 'solutions': 4105, 'crackdown': 1012, 'korle': 2480, 'ignores': 2199, 'reverse': 3701, 'assembly': 262, 'emissions': 1460, 'sanofi': 3799, 'hometown': 2106, 'reliance': 3599, 'pastor': 3149, 'brighton': 524, 'sounded': 4125, 'tedros': 4410, 'hero': 2066, 'wenliang': 4845, 'wind': 4880, 'alleged': 124, 'authoritarian': 295, 'disrupts': 1286, 'cruiseship': 1045, 'exploiting': 1600, 'sounding': 4126, 'outer': 3083, 'blower': 453, 'fifty': 1703, 'frank': 1812, 'finance': 1718, 'antonio': 185, 'failing': 1638, 'peaked': 3165, 'rage': 3493, 'policies': 3271, 'ignored': 2198, 'fairs': 1642, 'courts': 998, 'approval': 214, 'infodemic': 2298, 'israelis': 2371, 'withcoronavirus': 4897, 'product': 3387, 'burberry': 569, 'pangolins': 3122, 'norwegian': 2984, 'sixty': 4046, 'dangers': 1085, 'rolls': 3738, 'chronic': 760, 'pangolin': 3121, 'fewer': 1698, 'couples': 994, 'serie': 3913, 'dire': 1242, 'quar': 3465, 'powered': 3309, 'wartime': 4803, 'dragged': 1349, 'reopening': 3622, 'required': 3641, 'fecal': 1680, 'nvidia': 3003, 'presence': 3346, 'sanders': 3795, 'torture': 4528, 'discussed': 1264, 'partner': 3138, 'chalet': 701, 'restart': 3675, 'valued': 4717, 'odion': 3014, 'easing': 1408, 'aerosol': 70, 'shouting': 3987, 'heights': 2050, 'persist': 3184, 'spreader': 4175, 'forcibly': 1780, 'nazis': 2923, 'revenues': 3700, 'medicare': 2757, 'limbo': 2577, 'prophecy': 3412, 'rounding': 3746, 'stagger': 4190, 'repatriation': 3625, 'globalists': 1912, 'oly': 3033, 'qiushi': 3463, 'hotpot': 2137, 'stephen': 4225, 'dele': 1155, 'alli': 126, 'apologises': 199, 'empties': 1465, 'telecoms': 4412, 'dissidents': 1287, 'hsbc': 2147, 'visitor': 4761, 'inflation': 2294, 'lowest': 2651, 'parasite': 3130, 'creepy': 1025, 'singapores': 4031, 'grandmother': 1950, 'straits': 4253, 'nissan': 2972, 'gsma': 1970, 'forecasts': 1784, 'prankster': 3317, 'domino': 1321, 'loans': 2609, 'crunch': 1046, 'recovering': 3563, 'sacked': 3777, 'mistakenly': 2831, 'cambodias': 596, 'pipes': 3221, 'eases': 1405, 'intel': 2319, 'criteria': 1030, 'covid': 1007, 'unchecked': 4651, 'viruss': 4755, 'practitioner': 3313, 'galaxy': 1855, 'soften': 4097, 'hotspots': 2138, 'stagnates': 4191, 'dbs': 1101, 'hysterical': 2176, 'shave': 3953, 'deeper': 1139, 'westerdam': 4849, 'dean': 1111, 'bakker': 325, 'gathering': 1865, 'revised': 3704, 'daegu': 1076, 'hotbed': 2133, 'seemed': 3877, 'militarization': 2806, 'darkness': 1089, 'renewed': 3620, 'rural': 3769, 'stimulus': 4233, 'strongly': 4274, 'rugby': 3757, 'buttons': 581, 'towns': 4543, 'condemn': 877, 'roses': 3743, 'vanished': 4719, 'runway': 3768, 'koontz': 2475, 'projects': 3402, 'imf': 2211, 'caring': 637, 'religious': 3603, 'rescuer': 3646, 'modelers': 2840, 'chronicle': 761, 'pickup': 3215, 'marathon': 2713, 'cameroon': 599, 'signals': 4013, 'ipad': 2349, 'liu': 2599, 'zhiming': 4992, 'jaguar': 2386, 'magu': 2668, 'omaha': 3036, 'petri': 3194, 'efcc': 1431, 'lcc': 2524, 'expels': 1585, 'rover': 3751, 'incinerators': 2247, 'qom': 3464, 'cult': 1054, 'irans': 2355, 'iata': 2179, 'gdc': 1870, 'assaults': 261, 'humboldt': 2159, 'prisons': 3375, 'uptick': 4690, 'lebanon': 2544, 'objections': 3007, 'revises': 3705, 'narrowing': 2912, 'lombardy': 2625, 'relatives': 3593, 'bungling': 568, 'untraceable': 4679, 'giorgio': 1902, 'armani': 229, 'venice': 4726, 'raids': 3495}\n"
          ]
        }
      ]
    },
    {
      "cell_type": "markdown",
      "source": [
        "## Building Model"
      ],
      "metadata": {
        "id": "mKHrWfy1eJhH"
      }
    },
    {
      "cell_type": "code",
      "source": [
        "model = SVC(kernel='linear')\n",
        "model.fit(X_train_tfidf, y_train)"
      ],
      "metadata": {
        "colab": {
          "base_uri": "https://localhost:8080/"
        },
        "id": "8d691FgJvEZr",
        "outputId": "fef1d16c-56cb-4547-94ed-bd45ec0c5c94"
      },
      "execution_count": 23,
      "outputs": [
        {
          "output_type": "stream",
          "name": "stderr",
          "text": [
            "/usr/local/lib/python3.8/dist-packages/sklearn/utils/validation.py:993: DataConversionWarning: A column-vector y was passed when a 1d array was expected. Please change the shape of y to (n_samples, ), for example using ravel().\n",
            "  y = column_or_1d(y, warn=True)\n"
          ]
        },
        {
          "output_type": "execute_result",
          "data": {
            "text/plain": [
              "SVC(kernel='linear')"
            ]
          },
          "metadata": {},
          "execution_count": 23
        }
      ]
    },
    {
      "cell_type": "code",
      "source": [
        "svm_pred = model.predict(X_test_tfidf)\n",
        "test_pred = pd.DataFrame()\n",
        "test_pred['tweet'] = X_test\n",
        "test_pred['label'] = svm_pred\n",
        "test_pred"
      ],
      "metadata": {
        "colab": {
          "base_uri": "https://localhost:8080/",
          "height": 424
        },
        "id": "uf1h4Ak1nxD1",
        "outputId": "8904bad1-f254-40e4-ca12-5f51dc28b391"
      },
      "execution_count": 24,
      "outputs": [
        {
          "output_type": "execute_result",
          "data": {
            "text/plain": [
              "                                                   tweet  label\n",
              "2308   stay safe healthy moots whose countries get in...      2\n",
              "22404                          corona virus thanos crazy      0\n",
              "23397  end world coronavirus panic african locust pla...      1\n",
              "25058  prevent spread covid hong kong diocese cancels...      1\n",
              "2664   chinese leader warns grave coronavirus crisis via      1\n",
              "...                                                  ...    ...\n",
              "3941   million potential carriers left wuhan coronavi...      1\n",
              "17854  corona virus lied whole cities china shut chin...      1\n",
              "95     think new coronavirus reaches tougher stance a...      1\n",
              "6279   white house tells airlines may suspend flights...      1\n",
              "26428  chinas global times impact coronavirus still s...      1\n",
              "\n",
              "[9000 rows x 2 columns]"
            ],
            "text/html": [
              "\n",
              "  <div id=\"df-5e2093d3-9db1-4e6c-a981-f0fe75fd22ea\">\n",
              "    <div class=\"colab-df-container\">\n",
              "      <div>\n",
              "<style scoped>\n",
              "    .dataframe tbody tr th:only-of-type {\n",
              "        vertical-align: middle;\n",
              "    }\n",
              "\n",
              "    .dataframe tbody tr th {\n",
              "        vertical-align: top;\n",
              "    }\n",
              "\n",
              "    .dataframe thead th {\n",
              "        text-align: right;\n",
              "    }\n",
              "</style>\n",
              "<table border=\"1\" class=\"dataframe\">\n",
              "  <thead>\n",
              "    <tr style=\"text-align: right;\">\n",
              "      <th></th>\n",
              "      <th>tweet</th>\n",
              "      <th>label</th>\n",
              "    </tr>\n",
              "  </thead>\n",
              "  <tbody>\n",
              "    <tr>\n",
              "      <th>2308</th>\n",
              "      <td>stay safe healthy moots whose countries get in...</td>\n",
              "      <td>2</td>\n",
              "    </tr>\n",
              "    <tr>\n",
              "      <th>22404</th>\n",
              "      <td>corona virus thanos crazy</td>\n",
              "      <td>0</td>\n",
              "    </tr>\n",
              "    <tr>\n",
              "      <th>23397</th>\n",
              "      <td>end world coronavirus panic african locust pla...</td>\n",
              "      <td>1</td>\n",
              "    </tr>\n",
              "    <tr>\n",
              "      <th>25058</th>\n",
              "      <td>prevent spread covid hong kong diocese cancels...</td>\n",
              "      <td>1</td>\n",
              "    </tr>\n",
              "    <tr>\n",
              "      <th>2664</th>\n",
              "      <td>chinese leader warns grave coronavirus crisis via</td>\n",
              "      <td>1</td>\n",
              "    </tr>\n",
              "    <tr>\n",
              "      <th>...</th>\n",
              "      <td>...</td>\n",
              "      <td>...</td>\n",
              "    </tr>\n",
              "    <tr>\n",
              "      <th>3941</th>\n",
              "      <td>million potential carriers left wuhan coronavi...</td>\n",
              "      <td>1</td>\n",
              "    </tr>\n",
              "    <tr>\n",
              "      <th>17854</th>\n",
              "      <td>corona virus lied whole cities china shut chin...</td>\n",
              "      <td>1</td>\n",
              "    </tr>\n",
              "    <tr>\n",
              "      <th>95</th>\n",
              "      <td>think new coronavirus reaches tougher stance a...</td>\n",
              "      <td>1</td>\n",
              "    </tr>\n",
              "    <tr>\n",
              "      <th>6279</th>\n",
              "      <td>white house tells airlines may suspend flights...</td>\n",
              "      <td>1</td>\n",
              "    </tr>\n",
              "    <tr>\n",
              "      <th>26428</th>\n",
              "      <td>chinas global times impact coronavirus still s...</td>\n",
              "      <td>1</td>\n",
              "    </tr>\n",
              "  </tbody>\n",
              "</table>\n",
              "<p>9000 rows × 2 columns</p>\n",
              "</div>\n",
              "      <button class=\"colab-df-convert\" onclick=\"convertToInteractive('df-5e2093d3-9db1-4e6c-a981-f0fe75fd22ea')\"\n",
              "              title=\"Convert this dataframe to an interactive table.\"\n",
              "              style=\"display:none;\">\n",
              "        \n",
              "  <svg xmlns=\"http://www.w3.org/2000/svg\" height=\"24px\"viewBox=\"0 0 24 24\"\n",
              "       width=\"24px\">\n",
              "    <path d=\"M0 0h24v24H0V0z\" fill=\"none\"/>\n",
              "    <path d=\"M18.56 5.44l.94 2.06.94-2.06 2.06-.94-2.06-.94-.94-2.06-.94 2.06-2.06.94zm-11 1L8.5 8.5l.94-2.06 2.06-.94-2.06-.94L8.5 2.5l-.94 2.06-2.06.94zm10 10l.94 2.06.94-2.06 2.06-.94-2.06-.94-.94-2.06-.94 2.06-2.06.94z\"/><path d=\"M17.41 7.96l-1.37-1.37c-.4-.4-.92-.59-1.43-.59-.52 0-1.04.2-1.43.59L10.3 9.45l-7.72 7.72c-.78.78-.78 2.05 0 2.83L4 21.41c.39.39.9.59 1.41.59.51 0 1.02-.2 1.41-.59l7.78-7.78 2.81-2.81c.8-.78.8-2.07 0-2.86zM5.41 20L4 18.59l7.72-7.72 1.47 1.35L5.41 20z\"/>\n",
              "  </svg>\n",
              "      </button>\n",
              "      \n",
              "  <style>\n",
              "    .colab-df-container {\n",
              "      display:flex;\n",
              "      flex-wrap:wrap;\n",
              "      gap: 12px;\n",
              "    }\n",
              "\n",
              "    .colab-df-convert {\n",
              "      background-color: #E8F0FE;\n",
              "      border: none;\n",
              "      border-radius: 50%;\n",
              "      cursor: pointer;\n",
              "      display: none;\n",
              "      fill: #1967D2;\n",
              "      height: 32px;\n",
              "      padding: 0 0 0 0;\n",
              "      width: 32px;\n",
              "    }\n",
              "\n",
              "    .colab-df-convert:hover {\n",
              "      background-color: #E2EBFA;\n",
              "      box-shadow: 0px 1px 2px rgba(60, 64, 67, 0.3), 0px 1px 3px 1px rgba(60, 64, 67, 0.15);\n",
              "      fill: #174EA6;\n",
              "    }\n",
              "\n",
              "    [theme=dark] .colab-df-convert {\n",
              "      background-color: #3B4455;\n",
              "      fill: #D2E3FC;\n",
              "    }\n",
              "\n",
              "    [theme=dark] .colab-df-convert:hover {\n",
              "      background-color: #434B5C;\n",
              "      box-shadow: 0px 1px 3px 1px rgba(0, 0, 0, 0.15);\n",
              "      filter: drop-shadow(0px 1px 2px rgba(0, 0, 0, 0.3));\n",
              "      fill: #FFFFFF;\n",
              "    }\n",
              "  </style>\n",
              "\n",
              "      <script>\n",
              "        const buttonEl =\n",
              "          document.querySelector('#df-5e2093d3-9db1-4e6c-a981-f0fe75fd22ea button.colab-df-convert');\n",
              "        buttonEl.style.display =\n",
              "          google.colab.kernel.accessAllowed ? 'block' : 'none';\n",
              "\n",
              "        async function convertToInteractive(key) {\n",
              "          const element = document.querySelector('#df-5e2093d3-9db1-4e6c-a981-f0fe75fd22ea');\n",
              "          const dataTable =\n",
              "            await google.colab.kernel.invokeFunction('convertToInteractive',\n",
              "                                                     [key], {});\n",
              "          if (!dataTable) return;\n",
              "\n",
              "          const docLinkHtml = 'Like what you see? Visit the ' +\n",
              "            '<a target=\"_blank\" href=https://colab.research.google.com/notebooks/data_table.ipynb>data table notebook</a>'\n",
              "            + ' to learn more about interactive tables.';\n",
              "          element.innerHTML = '';\n",
              "          dataTable['output_type'] = 'display_data';\n",
              "          await google.colab.output.renderOutput(dataTable, element);\n",
              "          const docLink = document.createElement('div');\n",
              "          docLink.innerHTML = docLinkHtml;\n",
              "          element.appendChild(docLink);\n",
              "        }\n",
              "      </script>\n",
              "    </div>\n",
              "  </div>\n",
              "  "
            ]
          },
          "metadata": {},
          "execution_count": 24
        }
      ]
    },
    {
      "cell_type": "code",
      "source": [
        "test_pred['label'].value_counts()"
      ],
      "metadata": {
        "colab": {
          "base_uri": "https://localhost:8080/"
        },
        "id": "3LSu87PYqKzC",
        "outputId": "65bb876b-19fa-45eb-e94b-86c52f292b64"
      },
      "execution_count": 25,
      "outputs": [
        {
          "output_type": "execute_result",
          "data": {
            "text/plain": [
              "1    7435\n",
              "0    1252\n",
              "2     313\n",
              "Name: label, dtype: int64"
            ]
          },
          "metadata": {},
          "execution_count": 25
        }
      ]
    },
    {
      "cell_type": "code",
      "source": [
        "ConfusionMatrixDisplay.from_predictions(y_test, svm_pred)"
      ],
      "metadata": {
        "colab": {
          "base_uri": "https://localhost:8080/",
          "height": 296
        },
        "id": "PP5H9dUprTIU",
        "outputId": "9e50afb0-daf5-4950-fc74-31a625fbcd20"
      },
      "execution_count": 26,
      "outputs": [
        {
          "output_type": "execute_result",
          "data": {
            "text/plain": [
              "<sklearn.metrics._plot.confusion_matrix.ConfusionMatrixDisplay at 0x7f198e480e50>"
            ]
          },
          "metadata": {},
          "execution_count": 26
        },
        {
          "output_type": "display_data",
          "data": {
            "text/plain": [
              "<Figure size 432x288 with 2 Axes>"
            ],
            "image/png": "[encoded data removed]"
          },
          "metadata": {
            "needs_background": "light"
          }
        }
      ]
    },
    {
      "cell_type": "code",
      "source": [
        "accuracy = accuracy_score(svm_pred, y_test)*100\n",
        "accuracy"
      ],
      "metadata": {
        "colab": {
          "base_uri": "https://localhost:8080/"
        },
        "id": "8yaTNNygsZML",
        "outputId": "8684be1d-74de-43f5-f7b6-6254ca14dd10"
      },
      "execution_count": 27,
      "outputs": [
        {
          "output_type": "execute_result",
          "data": {
            "text/plain": [
              "88.53333333333333"
            ]
          },
          "metadata": {},
          "execution_count": 27
        }
      ]
    },
    {
      "cell_type": "code",
      "source": [
        "print(\"CLASSIFICATION_REPORT:\")\n",
        "print(classification_report(y_test, svm_pred))"
      ],
      "metadata": {
        "colab": {
          "base_uri": "https://localhost:8080/"
        },
        "id": "HLK-XFUYse8u",
        "outputId": "8ea71283-95b8-4b53-ef70-fc2d6c64ca0d"
      },
      "execution_count": 28,
      "outputs": [
        {
          "output_type": "stream",
          "name": "stdout",
          "text": [
            "CLASSIFICATION_REPORT:\n",
            "              precision    recall  f1-score   support\n",
            "\n",
            "           0       0.86      0.71      0.78      1513\n",
            "           1       0.89      0.97      0.93      6867\n",
            "           2       0.79      0.40      0.53       620\n",
            "\n",
            "    accuracy                           0.89      9000\n",
            "   macro avg       0.85      0.69      0.75      9000\n",
            "weighted avg       0.88      0.89      0.88      9000\n",
            "\n"
          ]
        }
      ]
    },
    {
      "cell_type": "code",
      "source": [
        "review = \"COVID-19 has made a terrible fear to everyone\"\n",
        "review_vector = tf_idf_vect.transform([review]) # vectorizing\n",
        "val = model.predict(review_vector)\n",
        "print({i for i in encoding if encoding[i]==val})"
      ],
      "metadata": {
        "colab": {
          "base_uri": "https://localhost:8080/"
        },
        "id": "xQOQlm-wfsoy",
        "outputId": "e0e153a5-099c-4b4d-cc20-10d6f0a1ea68"
      },
      "execution_count": 29,
      "outputs": [
        {
          "output_type": "stream",
          "name": "stdout",
          "text": [
            "{'neg'}\n"
          ]
        }
      ]
    }
  ]
}